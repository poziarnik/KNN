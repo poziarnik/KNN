{
 "cells": [
  {
   "cell_type": "code",
   "execution_count": 31,
   "metadata": {},
   "outputs": [
    {
     "name": "stdout",
     "output_type": "stream",
     "text": [
      "INFO: Pandarallel will run on 6 workers.\n",
      "INFO: Pandarallel will use Memory file system to transfer data between the main process and workers.\n"
     ]
    }
   ],
   "source": [
    "from pathlib import Path\n",
    "from pandarallel import pandarallel\n",
    "\n",
    "pandarallel.initialize(progress_bar=True)\n",
    "\n",
    "DATASETS = list(Path(\"../data\").rglob(\"predictions-experiment*.json\"))"
   ]
  },
  {
   "cell_type": "code",
   "execution_count": 32,
   "metadata": {},
   "outputs": [
    {
     "name": "stdout",
     "output_type": "stream",
     "text": [
      "../data/predictions-experiment-2.json\n",
      "../data/predictions-experiment-1.json\n"
     ]
    }
   ],
   "source": [
    "for dataset in DATASETS:\n",
    "    print(dataset)"
   ]
  },
  {
   "cell_type": "markdown",
   "metadata": {},
   "source": [
    "### Functions for filling masks\n",
    "\n",
    "We need to define functions to replace the masks with correct words"
   ]
  },
  {
   "cell_type": "code",
   "execution_count": 33,
   "metadata": {},
   "outputs": [],
   "source": [
    "import pandas as pd\n",
    "\n",
    "def _correct_row(row: pd.Series) -> str | None:\n",
    "    corrected = row[\"masked\"]\n",
    "\n",
    "    try:\n",
    "        for fix in row[\"replace\"]:\n",
    "            corrected = corrected.replace(\"[MASK]\", fix, 1)\n",
    "    except TypeError:\n",
    "        return None\n",
    "    \n",
    "    return corrected\n",
    "\n",
    "def correct_row(df: pd.DataFrame) -> pd.DataFrame:\n",
    "    df[\"corrected\"] = None\n",
    "\n",
    "    index = df[df[\"masked\"].notnull()].index\n",
    "    _df = df.loc[index]\n",
    "\n",
    "    _df[\"corrected\"] = _df.apply(_correct_row, axis=1)\n",
    "    df.loc[index] = _df\n",
    "    \n",
    "    return df"
   ]
  },
  {
   "cell_type": "markdown",
   "metadata": {},
   "source": [
    "### Calculate avg. edit distance\n",
    "\n",
    "- distance against `errored` sentence\n",
    "- distance against `corrected` sentence"
   ]
  },
  {
   "cell_type": "code",
   "execution_count": 34,
   "metadata": {},
   "outputs": [],
   "source": [
    "from nltk import edit_distance\n",
    "\n",
    "def calc_edit_distance(row: pd.Series) -> tuple[int, int]:\n",
    "    base = edit_distance(row[\"sentence\"], row[\"error\"])\n",
    "\n",
    "    if row[\"corrected\"] is None:\n",
    "        return base, base\n",
    "\n",
    "    return base, edit_distance(row[\"sentence\"], row[\"corrected\"])"
   ]
  },
  {
   "cell_type": "code",
   "execution_count": 35,
   "metadata": {},
   "outputs": [
    {
     "name": "stdout",
     "output_type": "stream",
     "text": [
      "Calculating edit distance...\n"
     ]
    },
    {
     "data": {
      "application/vnd.jupyter.widget-view+json": {
       "model_id": "0af4e36e91ee4203abfab96e73901d67",
       "version_major": 2,
       "version_minor": 0
      },
      "text/plain": [
       "VBox(children=(HBox(children=(IntProgress(value=0, description='0.00%', max=1604), Label(value='0 / 1604'))), …"
      ]
     },
     "metadata": {},
     "output_type": "display_data"
    },
    {
     "name": "stdout",
     "output_type": "stream",
     "text": [
      "2.555544009144757\n",
      "3.3618414215940975\n",
      "correct\t\t Narodil se v Turčianském Svatém Martině v rodině známého slovenského spisovatele Svetozára HurbanaVajanského\n",
      "error\t\t Narodil seu v Turčianském Sv1atém Martně v rodině známého kslovenského spisovatele Svetozára HurbanaVajanského\n",
      "masked\t\t Narodil seu v Turčianském [MASK] Martně v rodině známého [MASK] spisovatele Svetozára HurbanaVajanského\n",
      "replace\t\t ['Svatém', 'slovenského']\n",
      "corrected\t Narodil seu v Turčianském Svatém Martně v rodině známého slovenského spisovatele Svetozára HurbanaVajanského\n",
      "ED\t\t 2\n",
      "-----------------------\n",
      "\n",
      "correct\t\t Dne 10 listopadu 1992 přijalo Národní shromáždění Ázerbájdžánu výnos prezidenta Abulfazem Elčibejem č\n",
      "error\t\t Dne 10 listopadu 1992 přijalo Národní shromáždění Ázerbájdžánu výnos prezidenta Abulfazem Elčibejem č\n",
      "masked\t\t None\n",
      "replace\t\t [None]\n",
      "corrected\t None\n",
      "ED\t\t 0\n",
      "-----------------------\n",
      "\n",
      "correct\t\t Teplota během portrétování byla kolem 10 °C\n",
      "error\t\t Teplota během portrétování byla kolem 10 °C\n",
      "masked\t\t None\n",
      "replace\t\t [None]\n",
      "corrected\t None\n",
      "ED\t\t 0\n",
      "-----------------------\n",
      "\n",
      "Calculating edit distance...\n"
     ]
    },
    {
     "data": {
      "application/vnd.jupyter.widget-view+json": {
       "model_id": "73b6277f085f479e814b9c66a4c43c7a",
       "version_major": 2,
       "version_minor": 0
      },
      "text/plain": [
       "VBox(children=(HBox(children=(IntProgress(value=0, description='0.00%', max=1604), Label(value='0 / 1604'))), …"
      ]
     },
     "metadata": {},
     "output_type": "display_data"
    },
    {
     "name": "stdout",
     "output_type": "stream",
     "text": [
      "2.555544009144757\n",
      "6.216876234022654\n",
      "correct\t\t Vyšší sekundární vzdělávání v zemích EU\n",
      "error\t\t Všš sekudární vzdělávání vh zemíczemích E\n",
      "masked\t\t [MASK] [MASK] vzdělávání [MASK] [MASK] [MASK]\n",
      "replace\t\t ['-', 'š', 'v', 'h', 'ČR']\n",
      "corrected\t - š vzdělávání v h ČR\n",
      "ED\t\t 22\n",
      "-----------------------\n",
      "\n",
      "correct\t\t Historie\n",
      "error\t\t HstoiJHstoiJe6\n",
      "masked\t\t [MASK]\n",
      "replace\t\t ['[SEP]']\n",
      "corrected\t [SEP]\n",
      "ED\t\t 8\n",
      "-----------------------\n",
      "\n",
      "correct\t\t užíval až v letech 1262–1269 takže například historička Jana Zachová datuje originální privilegium až do roku 1262\n",
      "error\t\t užíval až ev ltech 1262–1269 takže například historička Jana Zchová datuje originální privil3egim až o roku 1262\n",
      "masked\t\t užíval až [MASK] ltech 1262–1269 takže například historička Jana Zchová datuje originální [MASK] až [MASK] roku 1262\n",
      "replace\t\t ['v', 'verzi', 'do']\n",
      "corrected\t užíval až v ltech 1262–1269 takže například historička Jana Zchová datuje originální verzi až do roku 1262\n",
      "ED\t\t 11\n",
      "-----------------------\n",
      "\n"
     ]
    }
   ],
   "source": [
    "import random\n",
    "\n",
    "for dataset in DATASETS:\n",
    "\n",
    "    df = pd.read_json(dataset, orient=\"records\", lines=True)\n",
    "    \n",
    "    df = correct_row(df)\n",
    "    \n",
    "    # calculate edit distance \n",
    "    print(\"Calculating edit distance...\")\n",
    "    df[['ED', 'ED_corrected']] = df.parallel_apply(calc_edit_distance, axis=1, result_type='expand')\n",
    "    \n",
    "    print(\"Edit distance:\" ,df[\"ED\"].mean())\n",
    "    print(\"Edit distance corrected:\" ,df[\"ED_corrected\"].mean())\n",
    "\n",
    "    # print(dataset.name)\n",
    "    df.to_json(dataset.parent / f\"corrected-{dataset.name}\", orient=\"records\", lines=True)\n",
    "    \n",
    "    for i in random.sample(range(0, len(df)), 3):\n",
    "        print(\"correct\\t\\t\", df.iloc[i][\"sentence\"])\n",
    "        print(\"error\\t\\t\", df.iloc[i][\"error\"])\n",
    "        print(\"masked\\t\\t\", df.iloc[i][\"masked\"])\n",
    "        print(\"replace\\t\\t\", df.iloc[i][\"replace\"])\n",
    "        print(\"corrected\\t\", df.iloc[i][\"corrected\"])\n",
    "        print(\"ED\\t\\t\", df.iloc[i][\"ED_corrected\"])\n",
    "        print(\"-----------------------\")\n",
    "        print()"
   ]
  }
 ],
 "metadata": {
  "kernelspec": {
   "display_name": ".venv",
   "language": "python",
   "name": "python3"
  },
  "language_info": {
   "codemirror_mode": {
    "name": "ipython",
    "version": 3
   },
   "file_extension": ".py",
   "mimetype": "text/x-python",
   "name": "python",
   "nbconvert_exporter": "python",
   "pygments_lexer": "ipython3",
   "version": "3.10.12"
  }
 },
 "nbformat": 4,
 "nbformat_minor": 2
}
