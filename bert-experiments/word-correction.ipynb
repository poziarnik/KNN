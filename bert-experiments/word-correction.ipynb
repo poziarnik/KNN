{
 "cells": [
  {
   "cell_type": "code",
   "execution_count": 9,
   "metadata": {},
   "outputs": [],
   "source": [
    "from typing import Iterator\n",
    "from pathlib import Path\n",
    "\n",
    "DATASET = Path(\"../data/masked.jsonl\")\n",
    "\n",
    "MODEL = \"ufal/robeczech-base\""
   ]
  },
  {
   "cell_type": "code",
   "execution_count": 10,
   "metadata": {},
   "outputs": [
    {
     "data": {
      "text/html": [
       "<div>\n",
       "<style scoped>\n",
       "    .dataframe tbody tr th:only-of-type {\n",
       "        vertical-align: middle;\n",
       "    }\n",
       "\n",
       "    .dataframe tbody tr th {\n",
       "        vertical-align: top;\n",
       "    }\n",
       "\n",
       "    .dataframe thead th {\n",
       "        text-align: right;\n",
       "    }\n",
       "</style>\n",
       "<table border=\"1\" class=\"dataframe\">\n",
       "  <thead>\n",
       "    <tr style=\"text-align: right;\">\n",
       "      <th></th>\n",
       "      <th>sentence</th>\n",
       "      <th>error</th>\n",
       "      <th>masked</th>\n",
       "    </tr>\n",
       "  </thead>\n",
       "  <tbody>\n",
       "    <tr>\n",
       "      <th>0</th>\n",
       "      <td>jako sboristka Chloe</td>\n",
       "      <td>jako sboristka Chloe</td>\n",
       "      <td>jako sboristka Chloe</td>\n",
       "    </tr>\n",
       "    <tr>\n",
       "      <th>1</th>\n",
       "      <td>Z obavy před odkloněním části pracovních sil n...</td>\n",
       "      <td>Z obavy před odkloněním částIi pracovních sil ...</td>\n",
       "      <td>Z obavy před odkloněním [MASK] pracovních sil ...</td>\n",
       "    </tr>\n",
       "    <tr>\n",
       "      <th>2</th>\n",
       "      <td>Naopak na jižní polokouli je viditelná pouze d...</td>\n",
       "      <td>Naopak na jižní polokouli je viditelná pouze d...</td>\n",
       "      <td>Naopak na jižní polokouli je viditelná pouze d...</td>\n",
       "    </tr>\n",
       "    <tr>\n",
       "      <th>3</th>\n",
       "      <td>JeanCharles se také zajímal o vědu a mechaniku</td>\n",
       "      <td>JeanCharlesj seI také zajímal o qědu a mechaniku</td>\n",
       "      <td>[MASK] [MASK] také zajímal o [MASK] a mechaniku</td>\n",
       "    </tr>\n",
       "    <tr>\n",
       "      <th>4</th>\n",
       "      <td>Jakmile je dosaženo požadované velikosti elekt...</td>\n",
       "      <td>Jakmile je dosaženo požadované velikosti elekt...</td>\n",
       "      <td>Jakmile je dosaženo požadované velikosti elekt...</td>\n",
       "    </tr>\n",
       "    <tr>\n",
       "      <th>...</th>\n",
       "      <td>...</td>\n",
       "      <td>...</td>\n",
       "      <td>...</td>\n",
       "    </tr>\n",
       "    <tr>\n",
       "      <th>9995</th>\n",
       "      <td>Spor proto řešila Kapitulní konzistoř v Praze</td>\n",
       "      <td>Spor proto ře4šila Kapitulní konzitoř v aze</td>\n",
       "      <td>Spor proto [MASK] Kapitulní konzitoř v [MASK]</td>\n",
       "    </tr>\n",
       "    <tr>\n",
       "      <th>9996</th>\n",
       "      <td>19661971 Smrt Walta a Roye Disneyových a otevř...</td>\n",
       "      <td>19661971 Srt WaltaC a Roye Disneyových a otevř...</td>\n",
       "      <td>19661971 [MASK] [MASK] a Roye Disneyových a [M...</td>\n",
       "    </tr>\n",
       "    <tr>\n",
       "      <th>9997</th>\n",
       "      <td>Přestože byla požádána o účast v dalších dílec...</td>\n",
       "      <td>Přestože byla požádána o účast v dalších dílec...</td>\n",
       "      <td>Přestože byla požádána o účast v dalších dílec...</td>\n",
       "    </tr>\n",
       "    <tr>\n",
       "      <th>9998</th>\n",
       "      <td>Následně nebyl zvolen ani za řadového místopře...</td>\n",
       "      <td>Následně nebyl zvolen ani za řadového místopře...</td>\n",
       "      <td>Následně nebyl zvolen ani za řadového místopře...</td>\n",
       "    </tr>\n",
       "    <tr>\n",
       "      <th>9999</th>\n",
       "      <td>Jeho podstatou je hydrogenace nitrobenzenu na ...</td>\n",
       "      <td>Jeho podstatou je hydrogenace nitrobenzenu na ...</td>\n",
       "      <td>Jeho podstatou je hydrogenace nitrobenzenu na ...</td>\n",
       "    </tr>\n",
       "  </tbody>\n",
       "</table>\n",
       "<p>10000 rows × 3 columns</p>\n",
       "</div>"
      ],
      "text/plain": [
       "                                               sentence  \\\n",
       "0                                  jako sboristka Chloe   \n",
       "1     Z obavy před odkloněním části pracovních sil n...   \n",
       "2     Naopak na jižní polokouli je viditelná pouze d...   \n",
       "3        JeanCharles se také zajímal o vědu a mechaniku   \n",
       "4     Jakmile je dosaženo požadované velikosti elekt...   \n",
       "...                                                 ...   \n",
       "9995      Spor proto řešila Kapitulní konzistoř v Praze   \n",
       "9996  19661971 Smrt Walta a Roye Disneyových a otevř...   \n",
       "9997  Přestože byla požádána o účast v dalších dílec...   \n",
       "9998  Následně nebyl zvolen ani za řadového místopře...   \n",
       "9999  Jeho podstatou je hydrogenace nitrobenzenu na ...   \n",
       "\n",
       "                                                  error  \\\n",
       "0                                  jako sboristka Chloe   \n",
       "1     Z obavy před odkloněním částIi pracovních sil ...   \n",
       "2     Naopak na jižní polokouli je viditelná pouze d...   \n",
       "3      JeanCharlesj seI také zajímal o qědu a mechaniku   \n",
       "4     Jakmile je dosaženo požadované velikosti elekt...   \n",
       "...                                                 ...   \n",
       "9995        Spor proto ře4šila Kapitulní konzitoř v aze   \n",
       "9996  19661971 Srt WaltaC a Roye Disneyových a otevř...   \n",
       "9997  Přestože byla požádána o účast v dalších dílec...   \n",
       "9998  Následně nebyl zvolen ani za řadového místopře...   \n",
       "9999  Jeho podstatou je hydrogenace nitrobenzenu na ...   \n",
       "\n",
       "                                                 masked  \n",
       "0                                  jako sboristka Chloe  \n",
       "1     Z obavy před odkloněním [MASK] pracovních sil ...  \n",
       "2     Naopak na jižní polokouli je viditelná pouze d...  \n",
       "3       [MASK] [MASK] také zajímal o [MASK] a mechaniku  \n",
       "4     Jakmile je dosaženo požadované velikosti elekt...  \n",
       "...                                                 ...  \n",
       "9995      Spor proto [MASK] Kapitulní konzitoř v [MASK]  \n",
       "9996  19661971 [MASK] [MASK] a Roye Disneyových a [M...  \n",
       "9997  Přestože byla požádána o účast v dalších dílec...  \n",
       "9998  Následně nebyl zvolen ani za řadového místopře...  \n",
       "9999  Jeho podstatou je hydrogenace nitrobenzenu na ...  \n",
       "\n",
       "[10000 rows x 3 columns]"
      ]
     },
     "execution_count": 10,
     "metadata": {},
     "output_type": "execute_result"
    }
   ],
   "source": [
    "import pandas as pd\n",
    "\n",
    "df = pd.read_json(DATASET)\n",
    "df"
   ]
  },
  {
   "cell_type": "code",
   "execution_count": 11,
   "metadata": {},
   "outputs": [],
   "source": [
    "from transformers import pipeline\n",
    "\n",
    "corrector = pipeline(\"fill-mask\", model=MODEL, tokenizer=MODEL, device=0, top_k=1)"
   ]
  },
  {
   "cell_type": "code",
   "execution_count": 12,
   "metadata": {},
   "outputs": [],
   "source": [
    "def create_masks(row: pd.Series) -> list[str]:\n",
    "    masked = row[\"masked\"].split(\" \")\n",
    "    error = row[\"error\"].split(\" \")\n",
    "\n",
    "    result: list[str] = []\n",
    "\n",
    "    for i, w in enumerate(masked):\n",
    "        _error = error.copy()\n",
    "        if w == \"[MASK]\":\n",
    "            try:\n",
    "                _error[i] = \"[MASK]\"\n",
    "                result.append(\" \".join(_error))\n",
    "            except IndexError:\n",
    "                return []\n",
    "\n",
    "    return result"
   ]
  },
  {
   "cell_type": "markdown",
   "metadata": {},
   "source": [
    "### Example usage"
   ]
  },
  {
   "cell_type": "code",
   "execution_count": 13,
   "metadata": {},
   "outputs": [
    {
     "name": "stdout",
     "output_type": "stream",
     "text": [
      "[]\n"
     ]
    }
   ],
   "source": [
    "masks = create_masks(df.iloc[6])\n",
    "\n",
    "print(masks)"
   ]
  },
  {
   "cell_type": "code",
   "execution_count": 14,
   "metadata": {},
   "outputs": [
    {
     "data": {
      "text/plain": [
       "[{'score': 0.4931256175041199,\n",
       "  'token': 33,\n",
       "  'token_str': ' od',\n",
       "  'sequence': 'Baal Baal Lev je krátký hudební televizní film z roku 1997 od Eytna FoxeA podle scénáře který napsal Gal OhovskOhovski'}]"
      ]
     },
     "execution_count": 14,
     "metadata": {},
     "output_type": "execute_result"
    }
   ],
   "source": [
    "corrector(\"Baal Baal Lev je krátký hudební televizní film z roku 1997 [MASK] Eytna FoxeA podle scénáře který napsal Gal OhovskOhovski\")"
   ]
  },
  {
   "cell_type": "markdown",
   "metadata": {},
   "source": [
    "### Define function for furter processing"
   ]
  },
  {
   "cell_type": "code",
   "execution_count": 15,
   "metadata": {},
   "outputs": [],
   "source": [
    "from tqdm.auto import tqdm\n",
    "from transformers import Pipeline\n",
    "from dataclasses import dataclass\n",
    "from util import optimal_split, masked_correct\n",
    "\n",
    "\n",
    "@dataclass\n",
    "class PredictionData:\n",
    "    sentence: str\n",
    "    error: str\n",
    "    masked: str\n",
    "    predictions: list[str]\n",
    "\n",
    "\n",
    "class ProcessPrediction:\n",
    "    def __init__(self, pipeline: Pipeline):\n",
    "        self.pipeline = pipeline\n",
    "\n",
    "    def process_prediction(self, data: list[PredictionData]) -> Iterator[str]:\n",
    "        raise NotImplementedError(\"Implement this method\")\n",
    "\n",
    "def join_masked(row: list[str]) -> str | None:\n",
    "    is_all_floats = all(isinstance(item, float) for item in row)\n",
    "    if is_all_floats:\n",
    "        return None\n",
    "\n",
    "    masks: list[list[str]] = [\n",
    "        masked.split(\" \") for masked in row\n",
    "    ]\n",
    "\n",
    "    sentence: list[str] = []\n",
    "\n",
    "    for elements in zip(*masks):\n",
    "        if \"[MASK]\" in elements:\n",
    "            sentence.append(\"[MASK]\")\n",
    "        else:\n",
    "            sentence.append(elements[0])\n",
    "    \n",
    "    return \" \".join(sentence)\n",
    "\n",
    "def create_dataset(pred: ProcessPrediction) -> pd.DataFrame:\n",
    "    global df\n",
    "\n",
    "    final_dataset = pd.DataFrame()\n",
    "    \n",
    "    dfs = optimal_split(df)\n",
    "\n",
    "    for _df in tqdm(dfs, desc=\"Filling masks for shards\", total=len(dfs)):\n",
    "        _df[\"masked\"] = _df.apply(create_masks, axis=1)\n",
    "\n",
    "        # explode dataset so we can use it in the pipeline\n",
    "        _df = _df.explode(\"masked\")\n",
    "        _df[\"replace\"] = None\n",
    "        _df.reset_index(drop=True, inplace=True)\n",
    "\n",
    "        not_nan = _df[_df[\"masked\"].notnull()].index\n",
    "\n",
    "        df_to_process = _df.loc[not_nan]\n",
    "        df_to_process.reset_index(drop=True, inplace=True)\n",
    "\n",
    "        # apply pipeline\n",
    "        predictions = corrector(df_to_process[\"masked\"].to_list(), batch_size=32)\n",
    "\n",
    "        # process predictions\n",
    "        prediction_data: list[PredictionData] = [\n",
    "            PredictionData(\n",
    "                sentence=row.sentence,\n",
    "                error=row.error,\n",
    "                masked=row.masked,\n",
    "                predictions=[p[\"token_str\"].strip() for p in pred]\n",
    "            ) for row, pred in zip(df_to_process.itertuples(), predictions)\n",
    "        ]\n",
    "\n",
    "        for j, prediction in enumerate(pred.process_prediction(prediction_data)):\n",
    "            df_to_process.loc[j, \"replace\"] = prediction\n",
    "\n",
    "        _df.loc[not_nan] = df_to_process\n",
    "        \n",
    "        # implode and merge\n",
    "        _df = _df.groupby([\"sentence\", \"error\"]).agg(\n",
    "            {\n",
    "                \"masked\": list,\n",
    "                \"replace\": list,\n",
    "            }\n",
    "        ).reset_index()\n",
    "\n",
    "        # process masked sentences\n",
    "        _df[\"masked\"] = _df[\"masked\"].apply(join_masked)\n",
    "\n",
    "        final_dataset = pd.concat([final_dataset, _df])\n",
    "\n",
    "    return masked_correct(final_dataset)"
   ]
  },
  {
   "cell_type": "markdown",
   "metadata": {},
   "source": [
    "### Experiment 1\n",
    "We will replace `[MASK]` with the suggestion that has biggest score."
   ]
  },
  {
   "cell_type": "code",
   "execution_count": 16,
   "metadata": {},
   "outputs": [
    {
     "name": "stderr",
     "output_type": "stream",
     "text": [
      "/home/adam/projects/KNN/.venv/lib/python3.10/site-packages/numpy/core/fromnumeric.py:59: FutureWarning: 'DataFrame.swapaxes' is deprecated and will be removed in a future version. Please use 'DataFrame.transpose' instead.\n",
      "  return bound(*args, **kwds)\n"
     ]
    },
    {
     "data": {
      "application/vnd.jupyter.widget-view+json": {
       "model_id": "a8c6647a1ccb424eb6d3629e99f04752",
       "version_major": 2,
       "version_minor": 0
      },
      "text/plain": [
       "Filling masks for shards:   0%|          | 0/10 [00:00<?, ?it/s]"
      ]
     },
     "metadata": {},
     "output_type": "display_data"
    }
   ],
   "source": [
    "class Experiment1(ProcessPrediction):\n",
    "    def process_prediction(self, data: list[PredictionData]) -> Iterator[str]:\n",
    "        for row in data:\n",
    "            yield row.predictions[0]\n",
    "\n",
    "corrector = pipeline(\"fill-mask\", model=MODEL, tokenizer=MODEL, device=0, top_k=1)\n",
    "proc = Experiment1(corrector)\n",
    "\n",
    "result = create_dataset(proc)\n",
    "result.to_json(DATASET.parent / \"experiment-1.jsonl\", orient=\"records\", lines=True, index=False)"
   ]
  },
  {
   "cell_type": "markdown",
   "metadata": {},
   "source": [
    "### Experiment 2"
   ]
  },
  {
   "cell_type": "code",
   "execution_count": null,
   "metadata": {},
   "outputs": [
    {
     "name": "stderr",
     "output_type": "stream",
     "text": [
      "/home/adam/projects/KNN/.venv/lib/python3.10/site-packages/numpy/core/fromnumeric.py:59: FutureWarning: 'DataFrame.swapaxes' is deprecated and will be removed in a future version. Please use 'DataFrame.transpose' instead.\n",
      "  return bound(*args, **kwds)\n",
      "Filling masks for shards: 100%|██████████| 10/10 [01:21<00:00,  8.12s/it]\n"
     ]
    }
   ],
   "source": [
    "from nltk import edit_distance\n",
    "\n",
    "class Experiment2(ProcessPrediction):\n",
    "    def process_prediction(self, data: list[PredictionData]) -> Iterator[str]:\n",
    "        for row in data:\n",
    "            error = row.error.split(\" \")\n",
    "            masked = row.masked\n",
    "            predictions = row.predictions\n",
    "            index = masked.split(\" \").index(\"[MASK]\")\n",
    "\n",
    "            invalid_word = error[index]\n",
    "\n",
    "            best = float('inf')\n",
    "            _prediction = \"\"\n",
    "            for prediction in predictions:\n",
    "                if edit_distance(prediction, invalid_word) < best:\n",
    "                    best = edit_distance(prediction, invalid_word)\n",
    "                    _prediction = prediction\n",
    "\n",
    "            yield _prediction\n",
    "\n",
    "\n",
    "corrector = pipeline(\"fill-mask\", model=MODEL, tokenizer=MODEL, device=0, top_k=50)\n",
    "proc = Experiment2(corrector)\n",
    "result = create_dataset(proc)\n",
    "result.to_json(DATASET.parent / \"experiment-2.jsonl\", orient=\"records\", lines=True, index=False)"
   ]
  }
 ],
 "metadata": {
  "kernelspec": {
   "display_name": ".venv",
   "language": "python",
   "name": "python3"
  },
  "language_info": {
   "codemirror_mode": {
    "name": "ipython",
    "version": 3
   },
   "file_extension": ".py",
   "mimetype": "text/x-python",
   "name": "python",
   "nbconvert_exporter": "python",
   "pygments_lexer": "ipython3",
   "version": "3.10.12"
  }
 },
 "nbformat": 4,
 "nbformat_minor": 2
}
