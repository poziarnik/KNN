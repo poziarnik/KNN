{
 "cells": [
  {
   "cell_type": "code",
   "execution_count": 229,
   "metadata": {},
   "outputs": [],
   "source": [
    "from pathlib import Path\n",
    "\n",
    "DATASET = Path(\"../data/err-0.5/test.json\")\n",
    "\n",
    "MODEL = \"./model/roberta-error-detection\""
   ]
  },
  {
   "cell_type": "code",
   "execution_count": 230,
   "metadata": {},
   "outputs": [
    {
     "name": "stderr",
     "output_type": "stream",
     "text": [
      "Joining sentences: 100%|██████████| 10000/10000 [00:00<00:00, 205144.58it/s]\n"
     ]
    }
   ],
   "source": [
    "import pandas as pd\n",
    "import swifter\n",
    "\n",
    "df = pd.read_json(DATASET, orient=\"records\", lines=True)\n",
    "\n",
    "def parse_dataset(example: pd.Series):\n",
    "    return \" \".join(example[\"sentence\"]), \" \".join(example[\"error\"])\n",
    "\n",
    "df[\"sentence\"], df[\"error\"] = zip(*df.swifter.progress_bar(desc='Joining sentences').apply(parse_dataset, axis=1))"
   ]
  },
  {
   "cell_type": "markdown",
   "metadata": {},
   "source": [
    "### Create pipeline for token classification\n",
    "\n",
    "To use our fine-tuned model we need to provide directory where it's saved. By using `pipeline` from huggingface `transformers` library we can easily provide input to our model."
   ]
  },
  {
   "cell_type": "code",
   "execution_count": 231,
   "metadata": {},
   "outputs": [],
   "source": [
    "from transformers import pipeline, AutoTokenizer\n",
    "\n",
    "MODEL = \"./model/roberta-error-detection\"\n",
    "\n",
    "tokenizer = AutoTokenizer.from_pretrained(MODEL, model_max_length=124)\n",
    "\n",
    "token_classifier = pipeline(\n",
    "    \"token-classification\", model=MODEL, tokenizer=tokenizer, aggregation_strategy=\"simple\", device=0\n",
    ")"
   ]
  },
  {
   "cell_type": "markdown",
   "metadata": {},
   "source": [
    "### Detect errornous words / text\n",
    "\n",
    "Dataset is processed in chunks. For each sentence in the dataset, tokens will be classified either as `0` correct or `1` incorrect."
   ]
  },
  {
   "cell_type": "code",
   "execution_count": 232,
   "metadata": {},
   "outputs": [
    {
     "name": "stderr",
     "output_type": "stream",
     "text": [
      "Creating masked sentences.: 100%|██████████| 10/10 [00:15<00:00,  1.50s/it]\n"
     ]
    },
    {
     "data": {
      "text/plain": [
       "4864273"
      ]
     },
     "execution_count": 232,
     "metadata": {},
     "output_type": "execute_result"
    }
   ],
   "source": [
    "from tqdm.auto import tqdm\n",
    "from typing import Any\n",
    "from util import optimal_split\n",
    "import json\n",
    "\n",
    "output: list[Any] = []\n",
    "\n",
    "data_frames = optimal_split(df)\n",
    "\n",
    "for i, _df in tqdm(enumerate(data_frames), desc=\"Creating masked sentences.\", total=len(data_frames)):\n",
    "    for j, labels in enumerate(token_classifier(_df[\"error\"].to_list(), batch_size=32)):\n",
    "        masked_sentence: list[str] = _df.iloc[j][\"error\"].split(\" \")\n",
    "        \n",
    "        # this code be like 👌\n",
    "\n",
    "        # create masks for words\n",
    "        # word -> eg. [0, 0, 0, 0] + [None]\n",
    "        _index_mask = [[x]*len(w) + [None] for x, w in enumerate(masked_sentence)]\n",
    "        \n",
    "        # flatten indexes into one list\n",
    "        index_mask = [item for sublist in _index_mask for item in sublist]\n",
    "\n",
    "        for l in labels:  # noqa: E741\n",
    "            # incorrect group of tokens\n",
    "            if l[\"entity_group\"] == \"LABEL_1\":\n",
    "                # find words that are \n",
    "                index = set(index_mask[l[\"start\"]:l[\"end\"]])\n",
    "                index.discard(None)\n",
    "                for x in index:\n",
    "                    masked_sentence[x] = \"[MASK]\"\n",
    "\n",
    "        output.append({\n",
    "            \"sentence\": _df.iloc[j][\"sentence\"],\n",
    "            \"error\": _df.iloc[j][\"error\"],\n",
    "            \"masked\": \" \".join(masked_sentence)\n",
    "        })\n",
    "\n",
    "(DATASET.parent.parent / \"masked.json\").write_text(json.dumps(output, indent=2))"
   ]
  }
 ],
 "metadata": {
  "kernelspec": {
   "display_name": ".venv",
   "language": "python",
   "name": "python3"
  },
  "language_info": {
   "codemirror_mode": {
    "name": "ipython",
    "version": 3
   },
   "file_extension": ".py",
   "mimetype": "text/x-python",
   "name": "python",
   "nbconvert_exporter": "python",
   "pygments_lexer": "ipython3",
   "version": "3.10.12"
  }
 },
 "nbformat": 4,
 "nbformat_minor": 2
}
