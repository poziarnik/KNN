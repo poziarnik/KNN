{
 "cells": [
  {
   "cell_type": "code",
   "execution_count": 17,
   "metadata": {},
   "outputs": [],
   "source": [
    "from huggingface_hub import hf_hub_download\n",
    "from datasets import load_dataset, load_from_disk\n",
    "from pathlib import Path\n",
    "\n",
    "BASE_DATA_DIR = Path(\"./data\")\n",
    "BASE_DATA_DIR.mkdir(parents=True, exist_ok=True)"
   ]
  },
  {
   "cell_type": "code",
   "execution_count": 18,
   "metadata": {},
   "outputs": [
    {
     "name": "stderr",
     "output_type": "stream",
     "text": [
      "Generating train split: 17678059 examples [01:05, 268624.23 examples/s]\n"
     ]
    }
   ],
   "source": [
    "REPO_ID = \"BUT-FIT/BUT-LCC\"\n",
    "FILE_NAME = \"train_0.jsonl.gz\"\n",
    "\n",
    "dataset_path = hf_hub_download(repo_id=REPO_ID, filename=FILE_NAME, repo_type=\"dataset\")\n",
    "dataset = load_dataset('json', data_files=dataset_path, split='train')"
   ]
  },
  {
   "cell_type": "code",
   "execution_count": 19,
   "metadata": {},
   "outputs": [
    {
     "name": "stderr",
     "output_type": "stream",
     "text": [
      "Filter: 100%|██████████| 17678059/17678059 [02:04<00:00, 141551.37 examples/s]\n"
     ]
    }
   ],
   "source": [
    "dataset = dataset.filter(lambda x: x[\"part\"] == \"cswiki-20230101\")"
   ]
  },
  {
   "cell_type": "code",
   "execution_count": 20,
   "metadata": {},
   "outputs": [
    {
     "name": "stderr",
     "output_type": "stream",
     "text": [
      "Saving the dataset (1/1 shards): 100%|██████████| 50406/50406 [00:10<00:00, 4931.33 examples/s]\n"
     ]
    },
    {
     "data": {
      "text/plain": [
       "Dataset({\n",
       "    features: ['id', 'part', 'title', 'text', 'ugly', 'ugly_score'],\n",
       "    num_rows: 50406\n",
       "})"
      ]
     },
     "execution_count": 20,
     "metadata": {},
     "output_type": "execute_result"
    }
   ],
   "source": [
    "dataset.save_to_disk(BASE_DATA_DIR / \"cs-wiki\")\n",
    "\n",
    "load_from_disk(BASE_DATA_DIR / \"cs-wiki\")"
   ]
  }
 ],
 "metadata": {
  "kernelspec": {
   "display_name": ".venv",
   "language": "python",
   "name": "python3"
  },
  "language_info": {
   "codemirror_mode": {
    "name": "ipython",
    "version": 3
   },
   "file_extension": ".py",
   "mimetype": "text/x-python",
   "name": "python",
   "nbconvert_exporter": "python",
   "pygments_lexer": "ipython3",
   "version": "3.10.12"
  }
 },
 "nbformat": 4,
 "nbformat_minor": 2
}
