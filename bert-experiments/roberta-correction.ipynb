{
 "cells": [
  {
   "cell_type": "code",
   "execution_count": 183,
   "metadata": {},
   "outputs": [],
   "source": [
    "from pathlib import Path\n",
    "\n",
    "DATASET = Path(\"../data/masked.json\")\n",
    "\n",
    "MODEL = \"ufal/robeczech-base\""
   ]
  },
  {
   "cell_type": "code",
   "execution_count": 184,
   "metadata": {},
   "outputs": [],
   "source": [
    "import pandas as pd\n",
    "from datasets import Dataset\n",
    "\n",
    "df = pd.read_json(DATASET)\n",
    "df.head()\n",
    "dataset = Dataset.from_pandas(df)"
   ]
  },
  {
   "cell_type": "code",
   "execution_count": 185,
   "metadata": {},
   "outputs": [],
   "source": [
    "from transformers import pipeline\n",
    "\n",
    "corrector = pipeline(\"fill-mask\", model=MODEL, tokenizer=MODEL, device=0, top_k=3)"
   ]
  },
  {
   "cell_type": "markdown",
   "metadata": {},
   "source": [
    "### Example usage"
   ]
  },
  {
   "cell_type": "code",
   "execution_count": 186,
   "metadata": {},
   "outputs": [
    {
     "name": "stdout",
     "output_type": "stream",
     "text": [
      "[{'score': 0.961595356464386, 'token': 1469, 'token_str': ' třídy', 'sequence': 'Mercedes-Benz W123 je automobil vyšší střední třídy vyráběný mezi letny 1976 až 1985.'}, {'score': 0.03217912092804909, 'token': 2664, 'token_str': ' kategorie', 'sequence': 'Mercedes-Benz W123 je automobil vyšší střední kategorie vyráběný mezi letny 1976 až 1985.'}]\n",
      "[{'score': 0.6241330504417419, 'token': 596, 'token_str': ' lety', 'sequence': 'Mercedes-Benz W123 je automobil vyšší střední třdy vyráběný mezi lety 1976 až 1985.'}, {'score': 0.21872220933437347, 'token': 546, 'token_str': ' roky', 'sequence': 'Mercedes-Benz W123 je automobil vyšší střední třdy vyráběný mezi roky 1976 až 1985.'}]\n"
     ]
    }
   ],
   "source": [
    "masked_sentences = dataset[\"masked\"]\n",
    "\n",
    "for predictions in corrector(masked_sentences[0]):\n",
    "    print(predictions[:2])"
   ]
  },
  {
   "cell_type": "code",
   "execution_count": 187,
   "metadata": {},
   "outputs": [],
   "source": [
    "SHARDS = 2"
   ]
  },
  {
   "cell_type": "code",
   "execution_count": 188,
   "metadata": {},
   "outputs": [],
   "source": [
    "from tqdm.auto import tqdm\n",
    "\n",
    "def explode_masked_and_fix(df: pd.DataFrame) -> pd.DataFrame:\n",
    "    df = df.explode(\"masked\")\n",
    "    df[\"fix\"] = None\n",
    "    df.reset_index(drop=True, inplace=True)\n",
    "    return df\n",
    "\n",
    "def _merge_masked(row):\n",
    "    sentence = row[\"sentence\"].split(' ')\n",
    "    for masked in row[\"masked\"]:\n",
    "        sentence[masked.split(\" \").index(\"[MASK]\")] = \"[MASK]\"\n",
    "\n",
    "    return row[\"sentence\"], \" \".join(sentence), row[\"fix\"]\n",
    "\n",
    "def implode_and_merge_masked(df: pd.DataFrame) -> pd.DataFrame:\n",
    "    df = df.groupby([\"sentence\"]).agg(\n",
    "        {\n",
    "            \"masked\": list,\n",
    "            \"fix\": list\n",
    "        }\n",
    "    ).reset_index()\n",
    "\n",
    "    df[\"sentence\"], df[\"masked\"], df[\"fix\"] = zip(*df.apply(_merge_masked, axis=1))\n",
    "    return df\n",
    "\n",
    "def create_dataset() -> pd.DataFrame:\n",
    "    final_df = pd.DataFrame()\n",
    "\n",
    "    for i in tqdm(range(SHARDS)):\n",
    "        _dataset = dataset.shard(num_shards=SHARDS, index=i)\n",
    "\n",
    "        df = _dataset.to_pandas()\n",
    "        df = explode_masked_and_fix(df)\n",
    "\n",
    "        predictions = corrector(df[\"masked\"].to_list(), batch_size=32)\n",
    "\n",
    "        for j, prediction in enumerate(predictions):\n",
    "            df.loc[j, \"fix\"] = prediction[0][\"token_str\"].strip()\n",
    "\n",
    "        df = implode_and_merge_masked(df)\n",
    "\n",
    "        final_df = pd.concat([final_df, df], ignore_index=True)\n",
    "\n",
    "    return final_df\n",
    "    \n",
    "    "
   ]
  },
  {
   "cell_type": "markdown",
   "metadata": {},
   "source": [
    "### Experiment 1\n",
    "We will replace `[MASK]` with the suggestion that has biggest score."
   ]
  },
  {
   "cell_type": "code",
   "execution_count": 189,
   "metadata": {},
   "outputs": [
    {
     "name": "stderr",
     "output_type": "stream",
     "text": [
      "  0%|          | 0/2 [00:00<?, ?it/s]"
     ]
    },
    {
     "name": "stderr",
     "output_type": "stream",
     "text": [
      "100%|██████████| 2/2 [00:00<00:00,  4.79it/s]\n"
     ]
    },
    {
     "data": {
      "text/html": [
       "<div>\n",
       "<style scoped>\n",
       "    .dataframe tbody tr th:only-of-type {\n",
       "        vertical-align: middle;\n",
       "    }\n",
       "\n",
       "    .dataframe tbody tr th {\n",
       "        vertical-align: top;\n",
       "    }\n",
       "\n",
       "    .dataframe thead th {\n",
       "        text-align: right;\n",
       "    }\n",
       "</style>\n",
       "<table border=\"1\" class=\"dataframe\">\n",
       "  <thead>\n",
       "    <tr style=\"text-align: right;\">\n",
       "      <th></th>\n",
       "      <th>sentence</th>\n",
       "      <th>masked</th>\n",
       "      <th>fix</th>\n",
       "    </tr>\n",
       "  </thead>\n",
       "  <tbody>\n",
       "    <tr>\n",
       "      <th>0</th>\n",
       "      <td>Bezpečné rozlišení obou druhů je často velmi složité , proto se sběr openěk doporučuje jen zkušenějším mykologům .</td>\n",
       "      <td>Bezpečné rozlišení obou druhů [MASK] často velmi složité , proto se sběr [MASK] doporučuje jen zkušenějším [MASK] .</td>\n",
       "      <td>[je, vzorků, uživatelům]</td>\n",
       "    </tr>\n",
       "    <tr>\n",
       "      <th>1</th>\n",
       "      <td>Byly s ní prováděny experimenty za účelem urychlení rozkladu pařezů .</td>\n",
       "      <td>Byly s ní prováděny [MASK] za [MASK] urychlení rozkladu [MASK] .</td>\n",
       "      <td>[práce, účelem, tkání]</td>\n",
       "    </tr>\n",
       "    <tr>\n",
       "      <th>2</th>\n",
       "      <td>Doporučuje se buk a habr .</td>\n",
       "      <td>Doporučuje se buk a habr [MASK]</td>\n",
       "      <td>[.]</td>\n",
       "    </tr>\n",
       "    <tr>\n",
       "      <th>3</th>\n",
       "      <td>Dužnina v klobouku je tenká hygrofánní , měkká a bělavá , v třeni pevná a rezavě hnědá , vůni má příjemnou , nasládle kořenitou , chuť lahodnou .</td>\n",
       "      <td>Dužnina v [MASK] je tenká hygrofánní , měkká a bělavá , v třeni pevná a rezavě hnědá , vůni má [MASK] , nasládle kořenitou , [MASK] lahodnou .</td>\n",
       "      <td>[plodu, příjemnou, sladkou]</td>\n",
       "    </tr>\n",
       "    <tr>\n",
       "      <th>4</th>\n",
       "      <td>Je též oblíbenou ingrediencí gulášů a masitých pokrmů .</td>\n",
       "      <td>Je též [MASK] ingrediencí gulášů a [MASK] pokrmů .</td>\n",
       "      <td>[hlavní, jiných]</td>\n",
       "    </tr>\n",
       "  </tbody>\n",
       "</table>\n",
       "</div>"
      ],
      "text/plain": [
       "                                                                                                                                            sentence  \\\n",
       "0                                 Bezpečné rozlišení obou druhů je často velmi složité , proto se sběr openěk doporučuje jen zkušenějším mykologům .   \n",
       "1                                                                              Byly s ní prováděny experimenty za účelem urychlení rozkladu pařezů .   \n",
       "2                                                                                                                         Doporučuje se buk a habr .   \n",
       "3  Dužnina v klobouku je tenká hygrofánní , měkká a bělavá , v třeni pevná a rezavě hnědá , vůni má příjemnou , nasládle kořenitou , chuť lahodnou .   \n",
       "4                                                                                            Je též oblíbenou ingrediencí gulášů a masitých pokrmů .   \n",
       "\n",
       "                                                                                                                                           masked  \\\n",
       "0                             Bezpečné rozlišení obou druhů [MASK] často velmi složité , proto se sběr [MASK] doporučuje jen zkušenějším [MASK] .   \n",
       "1                                                                                Byly s ní prováděny [MASK] za [MASK] urychlení rozkladu [MASK] .   \n",
       "2                                                                                                                 Doporučuje se buk a habr [MASK]   \n",
       "3  Dužnina v [MASK] je tenká hygrofánní , měkká a bělavá , v třeni pevná a rezavě hnědá , vůni má [MASK] , nasládle kořenitou , [MASK] lahodnou .   \n",
       "4                                                                                              Je též [MASK] ingrediencí gulášů a [MASK] pokrmů .   \n",
       "\n",
       "                           fix  \n",
       "0     [je, vzorků, uživatelům]  \n",
       "1       [práce, účelem, tkání]  \n",
       "2                          [.]  \n",
       "3  [plodu, příjemnou, sladkou]  \n",
       "4             [hlavní, jiných]  "
      ]
     },
     "execution_count": 189,
     "metadata": {},
     "output_type": "execute_result"
    }
   ],
   "source": []
  }
 ],
 "metadata": {
  "kernelspec": {
   "display_name": ".venv",
   "language": "python",
   "name": "python3"
  },
  "language_info": {
   "codemirror_mode": {
    "name": "ipython",
    "version": 3
   },
   "file_extension": ".py",
   "mimetype": "text/x-python",
   "name": "python",
   "nbconvert_exporter": "python",
   "pygments_lexer": "ipython3",
   "version": "3.10.12"
  }
 },
 "nbformat": 4,
 "nbformat_minor": 2
}
