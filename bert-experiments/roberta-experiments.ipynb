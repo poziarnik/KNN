{
 "cells": [
  {
   "cell_type": "code",
   "execution_count": 6,
   "metadata": {},
   "outputs": [],
   "source": [
    "from transformers import pipeline\n",
    "\n",
    "MODEL = \"./model/roberta-error-detection\"\n",
    "\n",
    "# Replace this with your own checkpoint\n",
    "model_checkpoint = \"huggingface-course/bert-finetuned-ner\"\n",
    "token_classifier = pipeline(\n",
    "    \"token-classification\", model=MODEL, aggregation_strategy=\"simple\"\n",
    ")"
   ]
  },
  {
   "cell_type": "code",
   "execution_count": 18,
   "metadata": {},
   "outputs": [
    {
     "data": {
      "text/plain": [
       "[{'entity_group': 'LABEL_0',\n",
       "  'score': 0.99922043,\n",
       "  'word': ' Šlo o středně velkou sovu s kulatou',\n",
       "  'start': 0,\n",
       "  'end': 35},\n",
       " {'entity_group': 'LABEL_1',\n",
       "  'score': 0.9996356,\n",
       "  'word': ' aasd,',\n",
       "  'start': 36,\n",
       "  'end': 41},\n",
       " {'entity_group': 'LABEL_0',\n",
       "  'score': 0.9892912,\n",
       "  'word': ' obličejový disk nemusel být navzdory druhovému jménu pouze bě',\n",
       "  'start': 42,\n",
       "  'end': 103},\n",
       " {'entity_group': 'LABEL_1',\n",
       "  'score': 0.9651226,\n",
       "  'word': 'lavý.',\n",
       "  'start': 103,\n",
       "  'end': 108}]"
      ]
     },
     "execution_count": 18,
     "metadata": {},
     "output_type": "execute_result"
    }
   ],
   "source": [
    "token_classifier(\"Šlo o středně velkou sovu s kulatou , obličejový disk nemusel být navzdory druhovému jménu pouze bělavý.\")"
   ]
  }
 ],
 "metadata": {
  "kernelspec": {
   "display_name": ".venv",
   "language": "python",
   "name": "python3"
  },
  "language_info": {
   "codemirror_mode": {
    "name": "ipython",
    "version": 3
   },
   "file_extension": ".py",
   "mimetype": "text/x-python",
   "name": "python",
   "nbconvert_exporter": "python",
   "pygments_lexer": "ipython3",
   "version": "3.10.12"
  }
 },
 "nbformat": 4,
 "nbformat_minor": 2
}
