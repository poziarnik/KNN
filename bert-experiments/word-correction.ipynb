{
 "cells": [
  {
   "cell_type": "code",
   "execution_count": 13,
   "metadata": {},
   "outputs": [],
   "source": [
    "from typing import Iterator\n",
    "from pathlib import Path\n",
    "\n",
    "DATASET = Path(\"../data/masked.jsonl\")\n",
    "\n",
    "MODEL = \"ufal/robeczech-base\""
   ]
  },
  {
   "cell_type": "code",
   "execution_count": 14,
   "metadata": {},
   "outputs": [
    {
     "data": {
      "text/html": [
       "<div>\n",
       "<style scoped>\n",
       "    .dataframe tbody tr th:only-of-type {\n",
       "        vertical-align: middle;\n",
       "    }\n",
       "\n",
       "    .dataframe tbody tr th {\n",
       "        vertical-align: top;\n",
       "    }\n",
       "\n",
       "    .dataframe thead th {\n",
       "        text-align: right;\n",
       "    }\n",
       "</style>\n",
       "<table border=\"1\" class=\"dataframe\">\n",
       "  <thead>\n",
       "    <tr style=\"text-align: right;\">\n",
       "      <th></th>\n",
       "      <th>sentence</th>\n",
       "      <th>error</th>\n",
       "      <th>masked</th>\n",
       "    </tr>\n",
       "  </thead>\n",
       "  <tbody>\n",
       "    <tr>\n",
       "      <th>0</th>\n",
       "      <td>Plod</td>\n",
       "      <td>Plod</td>\n",
       "      <td>Plod</td>\n",
       "    </tr>\n",
       "    <tr>\n",
       "      <th>1</th>\n",
       "      <td>Dějiny</td>\n",
       "      <td>Dějnm</td>\n",
       "      <td>[MASK]</td>\n",
       "    </tr>\n",
       "    <tr>\n",
       "      <th>2</th>\n",
       "      <td>Obnovení stezky</td>\n",
       "      <td>Obnoví stezky</td>\n",
       "      <td>Obnoví stezky</td>\n",
       "    </tr>\n",
       "    <tr>\n",
       "      <th>3</th>\n",
       "      <td>Původně ho spravovala britská Společnost Hudso...</td>\n",
       "      <td>Původně ho spravovala britská Společnost Hudso...</td>\n",
       "      <td>Původně ho spravovala britská Společnost Hudso...</td>\n",
       "    </tr>\n",
       "    <tr>\n",
       "      <th>4</th>\n",
       "      <td>Na východě země pramení mimo jiné velké řeky E...</td>\n",
       "      <td>Na východě země pramení mimo jié velké řveky E...</td>\n",
       "      <td>Na východě země pramení mimo [MASK] velké [MAS...</td>\n",
       "    </tr>\n",
       "    <tr>\n",
       "      <th>...</th>\n",
       "      <td>...</td>\n",
       "      <td>...</td>\n",
       "      <td>...</td>\n",
       "    </tr>\n",
       "    <tr>\n",
       "      <th>3881</th>\n",
       "      <td>Švédsko\\nBrankáři Arne Johansson Lars Svensson</td>\n",
       "      <td>Švédsko\\nBrankáři Arne Johansson Lars Svensson</td>\n",
       "      <td>Švédsko\\nBrankáři Arne Johansson Lars Svensson</td>\n",
       "    </tr>\n",
       "    <tr>\n",
       "      <th>3882</th>\n",
       "      <td>Slut s sebou vezli speciálně pro tohle turné s...</td>\n",
       "      <td>Slut s sebou vezli speciálně pro thl turné ses...</td>\n",
       "      <td>Slut s sebou vezli speciálně pro [MASK] turné ...</td>\n",
       "    </tr>\n",
       "    <tr>\n",
       "      <th>3883</th>\n",
       "      <td>Diapozitivy měly rozměr 85 × 17 cm – tedy stan...</td>\n",
       "      <td>Diapozitivy měly ozměr 8e59 × 17 cm – tedy skt...</td>\n",
       "      <td>Diapozitivy měly [MASK] [MASK] × 17 cm – tedy ...</td>\n",
       "    </tr>\n",
       "    <tr>\n",
       "      <th>3884</th>\n",
       "      <td>Sídlí v ulici Vodičkova na Novém Městě v Praze...</td>\n",
       "      <td>SíGdlí v ulic Vodič0kovUa na Novém Městě v Pra...</td>\n",
       "      <td>[MASK] v ulic [MASK] na Novém Městě v Praze 1 ...</td>\n",
       "    </tr>\n",
       "    <tr>\n",
       "      <th>3885</th>\n",
       "      <td>V roce 1954 se k následkům mučení přidala rako...</td>\n",
       "      <td>V roce 1954 se k následkům mučení přidala rako...</td>\n",
       "      <td>V roce 1954 se k následkům mučení přidala rako...</td>\n",
       "    </tr>\n",
       "  </tbody>\n",
       "</table>\n",
       "<p>3886 rows × 3 columns</p>\n",
       "</div>"
      ],
      "text/plain": [
       "                                               sentence  \\\n",
       "0                                                  Plod   \n",
       "1                                                Dějiny   \n",
       "2                                       Obnovení stezky   \n",
       "3     Původně ho spravovala britská Společnost Hudso...   \n",
       "4     Na východě země pramení mimo jiné velké řeky E...   \n",
       "...                                                 ...   \n",
       "3881     Švédsko\\nBrankáři Arne Johansson Lars Svensson   \n",
       "3882  Slut s sebou vezli speciálně pro tohle turné s...   \n",
       "3883  Diapozitivy měly rozměr 85 × 17 cm – tedy stan...   \n",
       "3884  Sídlí v ulici Vodičkova na Novém Městě v Praze...   \n",
       "3885  V roce 1954 se k následkům mučení přidala rako...   \n",
       "\n",
       "                                                  error  \\\n",
       "0                                                  Plod   \n",
       "1                                                 Dějnm   \n",
       "2                                         Obnoví stezky   \n",
       "3     Původně ho spravovala britská Společnost Hudso...   \n",
       "4     Na východě země pramení mimo jié velké řveky E...   \n",
       "...                                                 ...   \n",
       "3881     Švédsko\\nBrankáři Arne Johansson Lars Svensson   \n",
       "3882  Slut s sebou vezli speciálně pro thl turné ses...   \n",
       "3883  Diapozitivy měly ozměr 8e59 × 17 cm – tedy skt...   \n",
       "3884  SíGdlí v ulic Vodič0kovUa na Novém Městě v Pra...   \n",
       "3885  V roce 1954 se k následkům mučení přidala rako...   \n",
       "\n",
       "                                                 masked  \n",
       "0                                                  Plod  \n",
       "1                                                [MASK]  \n",
       "2                                         Obnoví stezky  \n",
       "3     Původně ho spravovala britská Společnost Hudso...  \n",
       "4     Na východě země pramení mimo [MASK] velké [MAS...  \n",
       "...                                                 ...  \n",
       "3881     Švédsko\\nBrankáři Arne Johansson Lars Svensson  \n",
       "3882  Slut s sebou vezli speciálně pro [MASK] turné ...  \n",
       "3883  Diapozitivy měly [MASK] [MASK] × 17 cm – tedy ...  \n",
       "3884  [MASK] v ulic [MASK] na Novém Městě v Praze 1 ...  \n",
       "3885  V roce 1954 se k následkům mučení přidala rako...  \n",
       "\n",
       "[3886 rows x 3 columns]"
      ]
     },
     "execution_count": 14,
     "metadata": {},
     "output_type": "execute_result"
    }
   ],
   "source": [
    "import pandas as pd\n",
    "\n",
    "df = pd.read_json(DATASET)\n",
    "df"
   ]
  },
  {
   "cell_type": "code",
   "execution_count": 15,
   "metadata": {},
   "outputs": [],
   "source": [
    "from transformers import pipeline\n",
    "\n",
    "corrector = pipeline(\"fill-mask\", model=MODEL, tokenizer=MODEL, device=0, top_k=1)"
   ]
  },
  {
   "cell_type": "code",
   "execution_count": 16,
   "metadata": {},
   "outputs": [],
   "source": [
    "def create_masks(row: pd.Series) -> list[str]:\n",
    "    masked = row[\"masked\"].split(\" \")\n",
    "    error = row[\"error\"].split(\" \")\n",
    "\n",
    "    result: list[str] = []\n",
    "\n",
    "    for i, w in enumerate(masked):\n",
    "        _error = error.copy()\n",
    "        if w == \"[MASK]\":\n",
    "            try:\n",
    "                _error[i] = \"[MASK]\"\n",
    "                result.append(\" \".join(_error))\n",
    "            except IndexError:\n",
    "                return []\n",
    "\n",
    "    return result"
   ]
  },
  {
   "cell_type": "markdown",
   "metadata": {},
   "source": [
    "### Example usage"
   ]
  },
  {
   "cell_type": "code",
   "execution_count": 17,
   "metadata": {},
   "outputs": [
    {
     "name": "stdout",
     "output_type": "stream",
     "text": [
      "[]\n"
     ]
    }
   ],
   "source": [
    "masks = create_masks(df.iloc[6])\n",
    "\n",
    "print(masks)"
   ]
  },
  {
   "cell_type": "code",
   "execution_count": 18,
   "metadata": {},
   "outputs": [
    {
     "data": {
      "text/plain": [
       "[{'score': 0.4931256175041199,\n",
       "  'token': 33,\n",
       "  'token_str': ' od',\n",
       "  'sequence': 'Baal Baal Lev je krátký hudební televizní film z roku 1997 od Eytna FoxeA podle scénáře který napsal Gal OhovskOhovski'}]"
      ]
     },
     "execution_count": 18,
     "metadata": {},
     "output_type": "execute_result"
    }
   ],
   "source": [
    "corrector(\"Baal Baal Lev je krátký hudební televizní film z roku 1997 [MASK] Eytna FoxeA podle scénáře který napsal Gal OhovskOhovski\")"
   ]
  },
  {
   "cell_type": "markdown",
   "metadata": {},
   "source": [
    "### Define function for furter processing"
   ]
  },
  {
   "cell_type": "code",
   "execution_count": 19,
   "metadata": {},
   "outputs": [],
   "source": [
    "from tqdm.auto import tqdm\n",
    "from transformers import Pipeline\n",
    "from dataclasses import dataclass\n",
    "from util import optimal_split, masked_correct\n",
    "\n",
    "\n",
    "@dataclass\n",
    "class PredictionData:\n",
    "    sentence: str\n",
    "    error: str\n",
    "    masked: str\n",
    "    predictions: list[str]\n",
    "\n",
    "\n",
    "class ProcessPrediction:\n",
    "    def __init__(self, pipeline: Pipeline):\n",
    "        self.pipeline = pipeline\n",
    "\n",
    "    def process_prediction(self, data: list[PredictionData]) -> Iterator[str]:\n",
    "        raise NotImplementedError(\"Implement this method\")\n",
    "\n",
    "def join_masked(row: list[str]) -> str | None:\n",
    "    is_all_floats = all(isinstance(item, float) for item in row)\n",
    "    if is_all_floats:\n",
    "        return None\n",
    "\n",
    "    masks: list[list[str]] = [\n",
    "        masked.split(\" \") for masked in row\n",
    "    ]\n",
    "\n",
    "    sentence: list[str] = []\n",
    "\n",
    "    for elements in zip(*masks):\n",
    "        if \"[MASK]\" in elements:\n",
    "            sentence.append(\"[MASK]\")\n",
    "        else:\n",
    "            sentence.append(elements[0])\n",
    "    \n",
    "    return \" \".join(sentence)\n",
    "\n",
    "def create_dataset(pred: ProcessPrediction) -> pd.DataFrame:\n",
    "    global df\n",
    "\n",
    "    final_dataset = pd.DataFrame()\n",
    "    \n",
    "    dfs = optimal_split(df)\n",
    "\n",
    "    for _df in tqdm(dfs, desc=\"Filling masks for shards\", total=len(dfs)):\n",
    "        _df[\"masked\"] = _df.apply(create_masks, axis=1)\n",
    "\n",
    "        # explode dataset so we can use it in the pipeline\n",
    "        _df = _df.explode(\"masked\")\n",
    "        _df[\"replace\"] = None\n",
    "        _df.reset_index(drop=True, inplace=True)\n",
    "\n",
    "        not_nan = _df[_df[\"masked\"].notnull()].index\n",
    "\n",
    "        df_to_process = _df.loc[not_nan]\n",
    "        df_to_process.reset_index(drop=True, inplace=True)\n",
    "\n",
    "        # apply pipeline\n",
    "        predictions = corrector(df_to_process[\"masked\"].to_list(), batch_size=32)\n",
    "\n",
    "        # process predictions\n",
    "        prediction_data: list[PredictionData] = [\n",
    "            PredictionData(\n",
    "                sentence=row.sentence,\n",
    "                error=row.error,\n",
    "                masked=row.masked,\n",
    "                predictions=[p[\"token_str\"].strip() for p in pred]\n",
    "            ) for row, pred in zip(df_to_process.itertuples(), predictions)\n",
    "        ]\n",
    "\n",
    "        for j, prediction in enumerate(pred.process_prediction(prediction_data)):\n",
    "            df_to_process.loc[j, \"replace\"] = prediction\n",
    "\n",
    "        _df.loc[not_nan] = df_to_process\n",
    "        \n",
    "        # implode and merge\n",
    "        _df = _df.groupby([\"sentence\", \"error\"]).agg(\n",
    "            {\n",
    "                \"masked\": list,\n",
    "                \"replace\": list,\n",
    "            }\n",
    "        ).reset_index()\n",
    "\n",
    "        # process masked sentences\n",
    "        _df[\"masked\"] = _df[\"masked\"].apply(join_masked)\n",
    "\n",
    "        final_dataset = pd.concat([final_dataset, _df])\n",
    "\n",
    "    return masked_correct(final_dataset)"
   ]
  },
  {
   "cell_type": "markdown",
   "metadata": {},
   "source": [
    "### Experiment 1\n",
    "We will replace `[MASK]` with the suggestion that has biggest score."
   ]
  },
  {
   "cell_type": "code",
   "execution_count": 20,
   "metadata": {},
   "outputs": [
    {
     "name": "stderr",
     "output_type": "stream",
     "text": [
      "/home/adam/projects/KNN/.venv/lib/python3.10/site-packages/numpy/core/fromnumeric.py:59: FutureWarning: 'DataFrame.swapaxes' is deprecated and will be removed in a future version. Please use 'DataFrame.transpose' instead.\n",
      "  return bound(*args, **kwds)\n"
     ]
    },
    {
     "data": {
      "application/vnd.jupyter.widget-view+json": {
       "model_id": "ceb63ddaf1e14080a295d7cf3534f61a",
       "version_major": 2,
       "version_minor": 0
      },
      "text/plain": [
       "Filling masks for shards:   0%|          | 0/4 [00:00<?, ?it/s]"
      ]
     },
     "metadata": {},
     "output_type": "display_data"
    }
   ],
   "source": [
    "class Experiment1(ProcessPrediction):\n",
    "    def process_prediction(self, data: list[PredictionData]) -> Iterator[str]:\n",
    "        for row in data:\n",
    "            yield row.predictions[0]\n",
    "\n",
    "corrector = pipeline(\"fill-mask\", model=MODEL, tokenizer=MODEL, device=0, top_k=1)\n",
    "proc = Experiment1(corrector)\n",
    "\n",
    "result = create_dataset(proc)\n",
    "result.to_json(DATASET.parent / \"experiment-1.jsonl\", orient=\"records\", lines=True, index=False)"
   ]
  },
  {
   "cell_type": "markdown",
   "metadata": {},
   "source": [
    "### Experiment 2"
   ]
  },
  {
   "cell_type": "code",
   "execution_count": 21,
   "metadata": {},
   "outputs": [],
   "source": [
    "from nltk import edit_distance\n",
    "\n",
    "class Experiment2(ProcessPrediction):\n",
    "    def process_prediction(self, data: list[PredictionData]) -> Iterator[str]:\n",
    "        for row in data:\n",
    "            error = row.error.split(\" \")\n",
    "            masked = row.masked\n",
    "            predictions = row.predictions\n",
    "            index = masked.split(\" \").index(\"[MASK]\")\n",
    "\n",
    "            invalid_word = error[index]\n",
    "\n",
    "            best = float('inf')\n",
    "            _prediction = \"\"\n",
    "            for prediction in predictions:\n",
    "                if edit_distance(prediction, invalid_word) < best:\n",
    "                    best = edit_distance(prediction, invalid_word)\n",
    "                    _prediction = prediction\n",
    "\n",
    "            yield _prediction"
   ]
  },
  {
   "cell_type": "code",
   "execution_count": 22,
   "metadata": {},
   "outputs": [
    {
     "name": "stderr",
     "output_type": "stream",
     "text": [
      "/home/adam/projects/KNN/.venv/lib/python3.10/site-packages/numpy/core/fromnumeric.py:59: FutureWarning: 'DataFrame.swapaxes' is deprecated and will be removed in a future version. Please use 'DataFrame.transpose' instead.\n",
      "  return bound(*args, **kwds)\n"
     ]
    },
    {
     "data": {
      "application/vnd.jupyter.widget-view+json": {
       "model_id": "32129f71a7694f4cb3f8fa0d71869b3a",
       "version_major": 2,
       "version_minor": 0
      },
      "text/plain": [
       "Filling masks for shards:   0%|          | 0/4 [00:00<?, ?it/s]"
      ]
     },
     "metadata": {},
     "output_type": "display_data"
    }
   ],
   "source": [
    "corrector = pipeline(\"fill-mask\", model=MODEL, tokenizer=MODEL, device=0, top_k=50)\n",
    "proc = Experiment2(corrector)\n",
    "result = create_dataset(proc)\n",
    "result.to_json(DATASET.parent / \"experiment-2.jsonl\", orient=\"records\", lines=True, index=False)"
   ]
  },
  {
   "cell_type": "markdown",
   "metadata": {},
   "source": [
    "### Experiment 3"
   ]
  },
  {
   "cell_type": "code",
   "execution_count": 23,
   "metadata": {},
   "outputs": [
    {
     "name": "stderr",
     "output_type": "stream",
     "text": [
      "/home/adam/projects/KNN/.venv/lib/python3.10/site-packages/numpy/core/fromnumeric.py:59: FutureWarning: 'DataFrame.swapaxes' is deprecated and will be removed in a future version. Please use 'DataFrame.transpose' instead.\n",
      "  return bound(*args, **kwds)\n"
     ]
    },
    {
     "data": {
      "application/vnd.jupyter.widget-view+json": {
       "model_id": "b7bad46c37354e97870a697215be2f3a",
       "version_major": 2,
       "version_minor": 0
      },
      "text/plain": [
       "Filling masks for shards:   0%|          | 0/4 [00:00<?, ?it/s]"
      ]
     },
     "metadata": {},
     "output_type": "display_data"
    }
   ],
   "source": [
    "corrector = pipeline(\"fill-mask\", model=MODEL, tokenizer=MODEL, device=0, top_k=100)\n",
    "proc = Experiment2(corrector)\n",
    "result = create_dataset(proc)\n",
    "result.to_json(DATASET.parent / \"experiment-3.jsonl\", orient=\"records\", lines=True, index=False)"
   ]
  },
  {
   "cell_type": "code",
   "execution_count": null,
   "metadata": {},
   "outputs": [
    {
     "name": "stderr",
     "output_type": "stream",
     "text": [
      "/home/adam/projects/KNN/.venv/lib/python3.10/site-packages/numpy/core/fromnumeric.py:59: FutureWarning: 'DataFrame.swapaxes' is deprecated and will be removed in a future version. Please use 'DataFrame.transpose' instead.\n",
      "  return bound(*args, **kwds)\n"
     ]
    },
    {
     "data": {
      "application/vnd.jupyter.widget-view+json": {
       "model_id": "36cb09c6d4964da887b1a89e684d6af6",
       "version_major": 2,
       "version_minor": 0
      },
      "text/plain": [
       "Filling masks for shards:   0%|          | 0/10 [00:00<?, ?it/s]"
      ]
     },
     "metadata": {},
     "output_type": "display_data"
    }
   ],
   "source": [
    "corrector = pipeline(\"fill-mask\", model=MODEL, tokenizer=MODEL, device=0, top_k=200)\n",
    "proc = Experiment2(corrector)\n",
    "result = create_dataset(proc)\n",
    "result.to_json(DATASET.parent / \"experiment-4.jsonl\", orient=\"records\", lines=True, index=False)"
   ]
  },
  {
   "cell_type": "code",
   "execution_count": null,
   "metadata": {},
   "outputs": [],
   "source": [
    "corrector = pipeline(\"fill-mask\", model=MODEL, tokenizer=MODEL, device=0, top_k=500)\n",
    "proc = Experiment2(corrector)\n",
    "result = create_dataset(proc)\n",
    "result.to_json(DATASET.parent / \"experiment-5.jsonl\", orient=\"records\", lines=True, index=False)"
   ]
  }
 ],
 "metadata": {
  "kernelspec": {
   "display_name": ".venv",
   "language": "python",
   "name": "python3"
  },
  "language_info": {
   "codemirror_mode": {
    "name": "ipython",
    "version": 3
   },
   "file_extension": ".py",
   "mimetype": "text/x-python",
   "name": "python",
   "nbconvert_exporter": "python",
   "pygments_lexer": "ipython3",
   "version": "3.10.12"
  }
 },
 "nbformat": 4,
 "nbformat_minor": 2
}
