{
 "cells": [
  {
   "cell_type": "code",
   "execution_count": 101,
   "metadata": {},
   "outputs": [],
   "source": [
    "from pathlib import Path\n",
    "\n",
    "DATASET = Path(\"../data/err-0.5/test.json\")\n",
    "\n",
    "MODEL = \"./model/roberta-error-detection\""
   ]
  },
  {
   "cell_type": "code",
   "execution_count": 102,
   "metadata": {},
   "outputs": [],
   "source": [
    "from datasets import Dataset\n",
    "import math\n",
    "\n",
    "dataset = Dataset.from_json(str(DATASET))\n",
    "\n",
    "def parse_dataset(example):\n",
    "    return {\n",
    "        \"sentence\": \" \".join(example[\"sentence\"]),\n",
    "        \"error\": \" \".join(example[\"error\"]),\n",
    "    }\n",
    "\n",
    "SHARDS = math.ceil(len(dataset) / 1000)\n",
    "\n",
    "dataset = dataset.map(parse_dataset, batched=False, num_proc=4)"
   ]
  },
  {
   "cell_type": "code",
   "execution_count": 103,
   "metadata": {},
   "outputs": [],
   "source": [
    "from transformers import pipeline, AutoTokenizer\n",
    "\n",
    "tokenizer = AutoTokenizer.from_pretrained(MODEL, model_max_length=512)\n",
    "\n",
    "MODEL = \"./model/roberta-error-detection\"\n",
    "\n",
    "token_classifier = pipeline(\n",
    "    \"token-classification\", model=MODEL, tokenizer=tokenizer, aggregation_strategy=\"simple\", device=0\n",
    ")"
   ]
  },
  {
   "cell_type": "code",
   "execution_count": 104,
   "metadata": {},
   "outputs": [],
   "source": [
    "# error_sentence = \"Baal Baal Lev je krátký hudební televizní film z roku 1997 rmežiséra Eytna FoxeA podle scénáře který napsal Gal OhovskOhovski\"\n",
    "# a = token_classifier(error_sentence)\n",
    "\n",
    "# print(a)\n",
    "\n",
    "# masked_sentence = error_sentence.split()\n",
    "\n",
    "# print(len(masked_sentence))\n",
    "\n",
    "# _index_mask = [[x]*len(w) + [None] for x, w in enumerate(masked_sentence)]\n",
    "\n",
    "# print(_index_mask, len(_index_mask))\n",
    "\n",
    "# index_mask = []\n",
    "\n",
    "# for x in _index_mask:\n",
    "#     index_mask.extend(x)\n",
    "\n",
    "# print(index_mask, len(index_mask), len(error_sentence))\n",
    "\n",
    "# for l in a:  # noqa: E741\n",
    "#     if l[\"entity_group\"] == \"LABEL_1\":\n",
    "#         e = set(index_mask[l[\"start\"]:l[\"end\"]])\n",
    "#         e.remove(None)\n",
    "#         print(e)\n",
    "#         for x in e:\n",
    "#             masked_sentence[x] = \"[MASK]\"\n",
    "\n",
    "# print(masked_sentence)"
   ]
  },
  {
   "cell_type": "code",
   "execution_count": 109,
   "metadata": {},
   "outputs": [
    {
     "name": "stderr",
     "output_type": "stream",
     "text": [
      "Creating masked sentences.: 100%|██████████| 10/10 [01:24<00:00,  8.44s/it]\n",
      "Creating json from Arrow format: 100%|██████████| 10/10 [00:00<00:00, 270.91ba/s]\n"
     ]
    },
    {
     "data": {
      "text/plain": [
       "4624247"
      ]
     },
     "execution_count": 109,
     "metadata": {},
     "output_type": "execute_result"
    }
   ],
   "source": [
    "from tqdm.auto import tqdm\n",
    "\n",
    "output: list[str] = []\n",
    "\n",
    "for i in tqdm(range(SHARDS), desc=\"Creating masked sentences.\"):\n",
    "    _dataset = dataset.shard(num_shards=SHARDS, index=i)\n",
    "\n",
    "    for j, labels in enumerate(token_classifier(_dataset[\"error\"], batch_size=32)):\n",
    "        masked_sentence: list[str] = _dataset[\"error\"][j].split(\" \")\n",
    "        \n",
    "        # this code be like 👌\n",
    "        _index_mask = [[x]*len(w) + [None] for x, w in enumerate(masked_sentence)]\n",
    "        index_mask = []\n",
    "\n",
    "        for x in _index_mask:\n",
    "            index_mask.extend(x)\n",
    "\n",
    "        for l in labels:  # noqa: E741\n",
    "            if l[\"entity_group\"] == \"LABEL_1\":\n",
    "                e = set(index_mask[l[\"start\"]:l[\"end\"]])\n",
    "                e.discard(None)\n",
    "                for x in e:\n",
    "                    masked_sentence[x] = \"[MASK]\"\n",
    "\n",
    "        output.append({\n",
    "            \"sentence\": _dataset[\"sentence\"][j],\n",
    "            \"error\": _dataset[\"error\"][j],\n",
    "            \"masked\": \" \".join(masked_sentence)\n",
    "        })\n",
    "\n",
    "Dataset.from_list(output).to_json(DATASET.parent.parent / \"masked.json\")"
   ]
  }
 ],
 "metadata": {
  "kernelspec": {
   "display_name": ".venv",
   "language": "python",
   "name": "python3"
  },
  "language_info": {
   "codemirror_mode": {
    "name": "ipython",
    "version": 3
   },
   "file_extension": ".py",
   "mimetype": "text/x-python",
   "name": "python",
   "nbconvert_exporter": "python",
   "pygments_lexer": "ipython3",
   "version": "3.10.12"
  }
 },
 "nbformat": 4,
 "nbformat_minor": 2
}
