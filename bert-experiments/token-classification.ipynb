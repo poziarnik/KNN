{
 "cells": [
  {
   "cell_type": "code",
   "execution_count": 1,
   "metadata": {},
   "outputs": [],
   "source": [
    "from pathlib import Path\n",
    "\n",
    "DATASET = Path(\"../data/err-0.8/test.json\")\n",
    "\n",
    "MODEL = \"./model/roberta-error-detection\""
   ]
  },
  {
   "cell_type": "code",
   "execution_count": 2,
   "metadata": {},
   "outputs": [
    {
     "name": "stderr",
     "output_type": "stream",
     "text": [
      "/home/adam/projects/KNN/.venv/lib/python3.10/site-packages/tqdm/auto.py:21: TqdmWarning: IProgress not found. Please update jupyter and ipywidgets. See https://ipywidgets.readthedocs.io/en/stable/user_install.html\n",
      "  from .autonotebook import tqdm as notebook_tqdm\n",
      "Generating train split: 10000 examples [00:00, 517215.08 examples/s]\n",
      "Map (num_proc=4): 100%|██████████| 10000/10000 [00:00<00:00, 53610.44 examples/s]\n"
     ]
    }
   ],
   "source": [
    "from datasets import Dataset\n",
    "import math\n",
    "\n",
    "dataset = Dataset.from_json(str(DATASET))\n",
    "\n",
    "def parse_dataset(example):\n",
    "    return {\n",
    "        \"sentence\": \" \".join(example[\"sentence\"]),\n",
    "        \"error\": \" \".join(example[\"error\"]),\n",
    "    }\n",
    "\n",
    "SHARDS = math.ceil(len(dataset) / 1000)\n",
    "\n",
    "dataset = dataset.map(parse_dataset, batched=False, num_proc=4)"
   ]
  },
  {
   "cell_type": "code",
   "execution_count": 3,
   "metadata": {},
   "outputs": [
    {
     "name": "stderr",
     "output_type": "stream",
     "text": [
      "2024-05-09 02:12:11.696517: I tensorflow/core/util/port.cc:113] oneDNN custom operations are on. You may see slightly different numerical results due to floating-point round-off errors from different computation orders. To turn them off, set the environment variable `TF_ENABLE_ONEDNN_OPTS=0`.\n",
      "2024-05-09 02:12:11.723721: I tensorflow/core/platform/cpu_feature_guard.cc:210] This TensorFlow binary is optimized to use available CPU instructions in performance-critical operations.\n",
      "To enable the following instructions: AVX2 AVX512F AVX512_VNNI AVX512_BF16 FMA, in other operations, rebuild TensorFlow with the appropriate compiler flags.\n",
      "2024-05-09 02:12:12.144893: W tensorflow/compiler/tf2tensorrt/utils/py_utils.cc:38] TF-TRT Warning: Could not find TensorRT\n"
     ]
    }
   ],
   "source": [
    "from transformers import pipeline, AutoTokenizer\n",
    "\n",
    "tokenizer = AutoTokenizer.from_pretrained(MODEL, model_max_length=512)\n",
    "\n",
    "MODEL = \"./model/roberta-error-detection\"\n",
    "\n",
    "token_classifier = pipeline(\n",
    "    \"token-classification\", model=MODEL, tokenizer=tokenizer, aggregation_strategy=\"simple\", device=0\n",
    ")"
   ]
  },
  {
   "cell_type": "code",
   "execution_count": 4,
   "metadata": {},
   "outputs": [
    {
     "name": "stderr",
     "output_type": "stream",
     "text": [
      "Creating masked sentences.: 100%|██████████| 10/10 [01:19<00:00,  7.96s/it]\n",
      "Creating json from Arrow format: 100%|██████████| 10/10 [00:00<00:00, 251.06ba/s]\n"
     ]
    },
    {
     "data": {
      "text/plain": [
       "4863154"
      ]
     },
     "execution_count": 4,
     "metadata": {},
     "output_type": "execute_result"
    }
   ],
   "source": [
    "from tqdm.auto import tqdm\n",
    "\n",
    "output: list[str] = []\n",
    "\n",
    "for i in tqdm(range(SHARDS), desc=\"Creating masked sentences.\"):\n",
    "    _dataset = dataset.shard(num_shards=SHARDS, index=i)\n",
    "\n",
    "    for j, labels in enumerate(token_classifier(_dataset[\"error\"], batch_size=32)):\n",
    "        errored_sentence = _dataset[\"error\"][j]\n",
    "        masked_sentences: list[str] = []\n",
    "\n",
    "        for l in labels:  # noqa: E741\n",
    "            if l[\"entity_group\"] == \"LABEL_1\":\n",
    "                if len(m:=errored_sentence[: l[\"start\"]] + \"[MASK]\" + errored_sentence[l[\"end\"] :]) > 128:\n",
    "                    continue\n",
    "\n",
    "                # NOTE: if [MASK] is within a word, we can't use it\n",
    "                # so I will mask the whole word\n",
    "                m = m.split(\" \")\n",
    "\n",
    "                for i, word in enumerate(m):\n",
    "                    if \"[MASK]\" in word:\n",
    "                        m[i] = \"[MASK]\"\n",
    "\n",
    "                masked_sentences.append(\" \".join(m))\n",
    "\n",
    "        output.append({\n",
    "            \"sentence\": _dataset[\"sentence\"][j],\n",
    "            \"error\": _dataset[\"error\"][j],\n",
    "            \"masked\": masked_sentences\n",
    "        })\n",
    "\n",
    "Dataset.from_list(output).to_json(DATASET.parent / \"masked.json\")"
   ]
  }
 ],
 "metadata": {
  "kernelspec": {
   "display_name": ".venv",
   "language": "python",
   "name": "python3"
  },
  "language_info": {
   "codemirror_mode": {
    "name": "ipython",
    "version": 3
   },
   "file_extension": ".py",
   "mimetype": "text/x-python",
   "name": "python",
   "nbconvert_exporter": "python",
   "pygments_lexer": "ipython3",
   "version": "3.10.12"
  }
 },
 "nbformat": 4,
 "nbformat_minor": 2
}
