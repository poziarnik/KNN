{
 "cells": [
  {
   "cell_type": "code",
   "execution_count": 75,
   "metadata": {},
   "outputs": [],
   "source": [
    "from pathlib import Path\n",
    "\n",
    "DATASETS = list(Path(\"../data/err-0.8\").rglob(\"result-experiment*.json\"))"
   ]
  },
  {
   "cell_type": "code",
   "execution_count": 76,
   "metadata": {},
   "outputs": [
    {
     "name": "stdout",
     "output_type": "stream",
     "text": [
      "../data/err-0.8/result-experiment-1.json\n",
      "../data/err-0.8/result-experiment-2.json\n"
     ]
    }
   ],
   "source": [
    "for dataset in DATASETS:\n",
    "    print(dataset)"
   ]
  },
  {
   "cell_type": "code",
   "execution_count": 77,
   "metadata": {},
   "outputs": [],
   "source": [
    "import pandas as pd\n",
    "import swifter\n",
    "\n",
    "def _correct_row(row: pd.Series) -> str | None:\n",
    "    corrected = row[\"masked\"]\n",
    "\n",
    "    try:\n",
    "        for fix in row[\"replace\"]:\n",
    "            corrected = corrected.replace(\"[MASK]\", fix, 1)\n",
    "    except TypeError:\n",
    "        return None\n",
    "    \n",
    "    return corrected\n",
    "\n",
    "def correct_row(df: pd.DataFrame) -> pd.DataFrame:\n",
    "    df[\"corrected\"] = None\n",
    "\n",
    "    index = df[df[\"masked\"].notnull()].index\n",
    "    _df = df.loc[index]\n",
    "\n",
    "    _df[\"corrected\"] = _df.apply(_correct_row, axis=1)\n",
    "    df.loc[index] = _df\n",
    "    # df.drop(columns=[\"replace\"], inplace=True)\n",
    "    return df"
   ]
  },
  {
   "cell_type": "code",
   "execution_count": 78,
   "metadata": {},
   "outputs": [
    {
     "name": "stderr",
     "output_type": "stream",
     "text": [
      "Pandas Apply: 100%|██████████| 9992/9992 [00:47<00:00, 210.34it/s]\n"
     ]
    },
    {
     "name": "stdout",
     "output_type": "stream",
     "text": [
      "9.638210568454763\n",
      "correct\t\t Byl původně vyráběn společností Moto Union Vodňany jako větší sourozenec Dandy 50 .\n",
      "error\t\t Byl půvoedně vyráběn společností Moto Uni5on Vodňay jako větší sourozenec Dandy 50  . .\n",
      "masked\t\t Byl [MASK] vyráběn společností Moto [MASK] Vodňay jako větší sourozenec Dandy 50 [MASK]\n",
      "replace\t\t ['je', 'programu', 'se']\n",
      "corrected\t Byl je vyráběn společností Moto programu Vodňay jako větší sourozenec Dandy 50 se\n",
      "ED\t\t 18\n",
      "\n"
     ]
    },
    {
     "name": "stderr",
     "output_type": "stream",
     "text": [
      "Pandas Apply: 100%|██████████| 9992/9992 [00:46<00:00, 213.86it/s]"
     ]
    },
    {
     "name": "stdout",
     "output_type": "stream",
     "text": [
      "9.63460768614892\n",
      "correct\t\t Byl původně vyráběn společností Moto Union Vodňany jako větší sourozenec Dandy 50 .\n",
      "error\t\t Byl půvoedně vyráběn společností Moto Uni5on Vodňay jako větší sourozenec Dandy 50  . .\n",
      "masked\t\t Byl [MASK] vyráběn společností Moto [MASK] Vodňay jako větší sourozenec Dandy 50 [MASK]\n",
      "replace\t\t ['jeden', 'se', 'Současně']\n",
      "corrected\t Byl jeden vyráběn společností Moto se Vodňay jako větší sourozenec Dandy 50 Současně\n",
      "ED\t\t 20\n",
      "\n"
     ]
    },
    {
     "name": "stderr",
     "output_type": "stream",
     "text": [
      "\n"
     ]
    }
   ],
   "source": [
    "from nltk import edit_distance\n",
    "\n",
    "def calc_edit_distance(row: pd.Series) -> int:\n",
    "    if row[\"corrected\"] is None:\n",
    "        return edit_distance(row[\"sentence\"], row[\"error\"])\n",
    "\n",
    "    return edit_distance(row[\"sentence\"], row[\"corrected\"])\n",
    "\n",
    "for dataset in DATASETS:\n",
    "    df = pd.read_json(dataset, orient=\"records\", lines=True)\n",
    "    df = correct_row(df)\n",
    "    \n",
    "    # calculate edit distance \n",
    "    df[\"ED\"] = df.swifter.apply(calc_edit_distance, axis=1)\n",
    "    \n",
    "    print(df[\"ED\"].mean())\n",
    "\n",
    "    # print(dataset.name)\n",
    "    df.to_json(dataset.parent / f\"corrected-{dataset.name}\", orient=\"records\", lines=True)\n",
    "    print(\"correct\\t\\t\", df.iloc[50][\"sentence\"])\n",
    "    print(\"error\\t\\t\", df.iloc[50][\"error\"])\n",
    "    print(\"masked\\t\\t\", df.iloc[50][\"masked\"])\n",
    "    print(\"replace\\t\\t\", df.iloc[50][\"replace\"])\n",
    "    print(\"corrected\\t\", df.iloc[50][\"corrected\"])\n",
    "    print(\"ED\\t\\t\", df.iloc[50][\"ED\"])\n",
    "    print()\n",
    "    "
   ]
  }
 ],
 "metadata": {
  "kernelspec": {
   "display_name": ".venv",
   "language": "python",
   "name": "python3"
  },
  "language_info": {
   "codemirror_mode": {
    "name": "ipython",
    "version": 3
   },
   "file_extension": ".py",
   "mimetype": "text/x-python",
   "name": "python",
   "nbconvert_exporter": "python",
   "pygments_lexer": "ipython3",
   "version": "3.10.12"
  }
 },
 "nbformat": 4,
 "nbformat_minor": 2
}
