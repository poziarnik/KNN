{
 "cells": [
  {
   "cell_type": "code",
   "execution_count": 8,
   "metadata": {},
   "outputs": [],
   "source": [
    "from pathlib import Path\n",
    "from tqdm import tqdm\n",
    "\n",
    "tqdm.pandas()\n",
    "\n",
    "# DATASET = Path(\"../data/err-0.5/test.jsonl\")\n",
    "DATASET = Path(\"../gpt-correction.jsonl\")\n",
    "\n",
    "MODEL = \"./model/roberta-error-detection\""
   ]
  },
  {
   "cell_type": "code",
   "execution_count": 9,
   "metadata": {},
   "outputs": [
    {
     "name": "stderr",
     "output_type": "stream",
     "text": [
      "100%|██████████| 10000/10000 [00:00<00:00, 228057.90it/s]\n"
     ]
    }
   ],
   "source": [
    "import pandas as pd\n",
    "\n",
    "df = pd.read_json(DATASET, orient=\"records\", lines=True)\n",
    "\n",
    "# def parse_dataset(example: pd.Series):\n",
    "#     return \" \".join(example[\"sentence\"]), \" \".join(example[\"error\"])\n",
    "\n",
    "# df[\"sentence\"], df[\"error\"] = zip(*df.progress_apply(parse_dataset, axis=1))"
   ]
  },
  {
   "cell_type": "markdown",
   "metadata": {},
   "source": [
    "### Create pipeline for token classification\n",
    "\n",
    "To use our fine-tuned model we need to provide directory where it's saved. By using `pipeline` from huggingface `transformers` library we can easily provide input to our model."
   ]
  },
  {
   "cell_type": "code",
   "execution_count": 10,
   "metadata": {},
   "outputs": [],
   "source": [
    "from transformers import pipeline, AutoTokenizer\n",
    "\n",
    "MODEL = \"./model/roberta-error-detection\"\n",
    "\n",
    "tokenizer = AutoTokenizer.from_pretrained(MODEL, model_max_length=124)\n",
    "\n",
    "token_classifier = pipeline(\n",
    "    \"token-classification\", model=MODEL, tokenizer=tokenizer, aggregation_strategy=\"simple\", device=0\n",
    ")"
   ]
  },
  {
   "cell_type": "code",
   "execution_count": 11,
   "metadata": {},
   "outputs": [
    {
     "data": {
      "text/plain": [
       "[{'entity_group': 'LABEL_1',\n",
       "  'score': 0.8531505,\n",
       "  'word': ' K',\n",
       "  'start': 0,\n",
       "  'end': 1},\n",
       " {'entity_group': 'LABEL_0',\n",
       "  'score': 0.99065715,\n",
       "  'word': ' Schumann v',\n",
       "  'start': 2,\n",
       "  'end': 12}]"
      ]
     },
     "execution_count": 11,
     "metadata": {},
     "output_type": "execute_result"
    }
   ],
   "source": [
    "token_classifier(\"K Schumann v 6díle GesamtbGeschreibung er Kakteen 1898 v tomto rodu vytvořil pro tyto rostliny podroId Notocactus\")[:2]"
   ]
  },
  {
   "cell_type": "markdown",
   "metadata": {},
   "source": [
    "### Detect errornous words / text\n",
    "\n",
    "Dataset is processed in chunks. For each sentence in the dataset, tokens will be classified either as `0` correct or `1` incorrect."
   ]
  },
  {
   "cell_type": "code",
   "execution_count": 12,
   "metadata": {},
   "outputs": [
    {
     "name": "stderr",
     "output_type": "stream",
     "text": [
      "/home/adam/projects/KNN/.venv/lib/python3.10/site-packages/numpy/core/fromnumeric.py:59: FutureWarning: 'DataFrame.swapaxes' is deprecated and will be removed in a future version. Please use 'DataFrame.transpose' instead.\n",
      "  return bound(*args, **kwds)\n"
     ]
    },
    {
     "data": {
      "application/vnd.jupyter.widget-view+json": {
       "model_id": "5c2aa4c1944e4a86bd9d8662e9aa2a20",
       "version_major": 2,
       "version_minor": 0
      },
      "text/plain": [
       "Creating masked sentences.:   0%|          | 0/10 [00:00<?, ?it/s]"
      ]
     },
     "metadata": {},
     "output_type": "display_data"
    }
   ],
   "source": [
    "from tqdm.auto import tqdm\n",
    "from typing import Any\n",
    "from util import optimal_split\n",
    "import json\n",
    "\n",
    "output: list[Any] = []\n",
    "\n",
    "data_frames = optimal_split(df)\n",
    "\n",
    "for i, _df in tqdm(enumerate(data_frames), desc=\"Creating masked sentences.\", total=len(data_frames)):\n",
    "    for j, labels in enumerate(token_classifier(_df[\"error\"].to_list(), batch_size=32)):\n",
    "        masked_sentence: list[str] = _df.iloc[j][\"error\"].split(\" \")\n",
    "        \n",
    "        # this code be like 👌\n",
    "\n",
    "        # create masks for words\n",
    "        # word -> eg. [0, 0, 0, 0] + [None]\n",
    "        _index_mask = [[x]*len(w) + [None] for x, w in enumerate(masked_sentence)]\n",
    "        \n",
    "        # flatten indexes into one list\n",
    "        index_mask = [item for sublist in _index_mask for item in sublist]\n",
    "\n",
    "        for l in labels:  # noqa: E741\n",
    "            # incorrect group of tokens\n",
    "            if l[\"entity_group\"] == \"LABEL_1\":\n",
    "                # find words that are \n",
    "                index = set(index_mask[l[\"start\"]:l[\"end\"]])\n",
    "                index.discard(None)\n",
    "                for x in index:\n",
    "                    masked_sentence[x] = \"[MASK]\"\n",
    "\n",
    "        output.append({\n",
    "            \"sentence\": _df.iloc[j][\"sentence\"],\n",
    "            \"error\": _df.iloc[j][\"error\"],\n",
    "            \"masked\": \" \".join(masked_sentence)\n",
    "        })\n",
    "\n",
    "\n",
    "with open(\"../data/masked.jsonl\", \"w\") as f:\n",
    "    json.dump(output, f)"
   ]
  },
  {
   "cell_type": "code",
   "execution_count": 13,
   "metadata": {},
   "outputs": [
    {
     "name": "stdout",
     "output_type": "stream",
     "text": [
      "{'error': 'Hloubková sondáž byla ražena ze severu v\\xa0délce 94\\xa0km od '\n",
      "          'Frutigenu z\\xa0okresu Kandersteg v\\xa0letech 1994 až 1996',\n",
      " 'masked': 'Hloubková sondáž byla ražena ze severu v\\xa0délce 94\\xa0km od '\n",
      "           'Frutigenu z\\xa0okresu Kandersteg v\\xa0letech 1994 až 1996',\n",
      " 'sentence': 'Hloubková sondáž byla ražena ze severu v\\xa0délce 94\\xa0km od '\n",
      "             'Frutigenu z\\xa0okresu Kandersteg v\\xa0letech 1994 až 1996'}\n"
     ]
    }
   ],
   "source": [
    "from pprint import pprint\n",
    "\n",
    "pprint(output[0])"
   ]
  }
 ],
 "metadata": {
  "kernelspec": {
   "display_name": ".venv",
   "language": "python",
   "name": "python3"
  },
  "language_info": {
   "codemirror_mode": {
    "name": "ipython",
    "version": 3
   },
   "file_extension": ".py",
   "mimetype": "text/x-python",
   "name": "python",
   "nbconvert_exporter": "python",
   "pygments_lexer": "ipython3",
   "version": "3.10.12"
  }
 },
 "nbformat": 4,
 "nbformat_minor": 2
}
