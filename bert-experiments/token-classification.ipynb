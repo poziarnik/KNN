{
 "cells": [
  {
   "cell_type": "code",
   "execution_count": 6,
   "metadata": {},
   "outputs": [],
   "source": [
    "from pathlib import Path\n",
    "from tqdm import tqdm\n",
    "\n",
    "tqdm.pandas()\n",
    "\n",
    "DATASET = Path(\"../data/err-0.5/test.json\")\n",
    "\n",
    "MODEL = \"./model/roberta-error-detection\""
   ]
  },
  {
   "cell_type": "code",
   "execution_count": 7,
   "metadata": {},
   "outputs": [
    {
     "name": "stderr",
     "output_type": "stream",
     "text": [
      "100%|██████████| 10000/10000 [00:00<00:00, 221219.73it/s]\n"
     ]
    }
   ],
   "source": [
    "import pandas as pd\n",
    "\n",
    "df = pd.read_json(DATASET, orient=\"records\", lines=True)\n",
    "\n",
    "def parse_dataset(example: pd.Series):\n",
    "    return \" \".join(example[\"sentence\"]), \" \".join(example[\"error\"])\n",
    "\n",
    "df[\"sentence\"], df[\"error\"] = zip(*df.progress_apply(parse_dataset, axis=1))"
   ]
  },
  {
   "cell_type": "markdown",
   "metadata": {},
   "source": [
    "### Create pipeline for token classification\n",
    "\n",
    "To use our fine-tuned model we need to provide directory where it's saved. By using `pipeline` from huggingface `transformers` library we can easily provide input to our model."
   ]
  },
  {
   "cell_type": "code",
   "execution_count": 8,
   "metadata": {},
   "outputs": [],
   "source": [
    "from transformers import pipeline, AutoTokenizer\n",
    "\n",
    "MODEL = \"./model/roberta-error-detection\"\n",
    "\n",
    "tokenizer = AutoTokenizer.from_pretrained(MODEL, model_max_length=124)\n",
    "\n",
    "token_classifier = pipeline(\n",
    "    \"token-classification\", model=MODEL, tokenizer=tokenizer, aggregation_strategy=\"simple\", device=0\n",
    ")"
   ]
  },
  {
   "cell_type": "markdown",
   "metadata": {},
   "source": [
    "### Detect errornous words / text\n",
    "\n",
    "Dataset is processed in chunks. For each sentence in the dataset, tokens will be classified either as `0` correct or `1` incorrect."
   ]
  },
  {
   "cell_type": "code",
   "execution_count": 9,
   "metadata": {},
   "outputs": [
    {
     "name": "stderr",
     "output_type": "stream",
     "text": [
      "/home/adam/projects/KNN/.venv/lib/python3.10/site-packages/numpy/core/fromnumeric.py:59: FutureWarning: 'DataFrame.swapaxes' is deprecated and will be removed in a future version. Please use 'DataFrame.transpose' instead.\n",
      "  return bound(*args, **kwds)\n",
      "Creating masked sentences.: 100%|██████████| 10/10 [00:14<00:00,  1.48s/it]"
     ]
    },
    {
     "name": "stdout",
     "output_type": "stream",
     "text": [
      "{\n",
      "  \"sentence\": \"Sva\\u017eit\\u00fd zamok\\u0159en\\u00fd ter\\u00e9n tu vy\\u017eadoval zv\\u00fd\\u0161en\\u00e9 \\u00fasil\\u00ed i pozornost pocestn\\u00fdch a o p\\u0159epaden\\u00ed tu jist\\u011b nebyla nouze\",\n",
      "  \"error\": \"Sva\\u017eit\\u00fd zamok\\u0159en\\u00fd ter\\u00e9n u vWy\\u017eadoval zv\\u00fd\\u0161en\\u00e9 \\u00fasil\\u00ed i pozornost pocestn\\u00fdch a o p\\u0159epaden\\u00ed tu jist\\u011b nebla nouze\",\n",
      "  \"masked\": \"Sva\\u017eit\\u00fd zamok\\u0159en\\u00fd ter\\u00e9n [MASK] [MASK] zv\\u00fd\\u0161en\\u00e9 \\u00fasil\\u00ed i pozornost pocestn\\u00fdch a o p\\u0159epaden\\u00ed tu jist\\u011b [MASK] nouze\"\n",
      "}\n"
     ]
    },
    {
     "name": "stderr",
     "output_type": "stream",
     "text": [
      "\n"
     ]
    }
   ],
   "source": [
    "from tqdm.auto import tqdm\n",
    "from typing import Any\n",
    "from util import optimal_split\n",
    "import json\n",
    "\n",
    "output: list[Any] = []\n",
    "\n",
    "data_frames = optimal_split(df)\n",
    "\n",
    "for i, _df in tqdm(enumerate(data_frames), desc=\"Creating masked sentences.\", total=len(data_frames)):\n",
    "    for j, labels in enumerate(token_classifier(_df[\"error\"].to_list(), batch_size=32)):\n",
    "        masked_sentence: list[str] = _df.iloc[j][\"error\"].split(\" \")\n",
    "        \n",
    "        # this code be like 👌\n",
    "\n",
    "        # create masks for words\n",
    "        # word -> eg. [0, 0, 0, 0] + [None]\n",
    "        _index_mask = [[x]*len(w) + [None] for x, w in enumerate(masked_sentence)]\n",
    "        \n",
    "        # flatten indexes into one list\n",
    "        index_mask = [item for sublist in _index_mask for item in sublist]\n",
    "\n",
    "        for l in labels:  # noqa: E741\n",
    "            # incorrect group of tokens\n",
    "            if l[\"entity_group\"] == \"LABEL_1\":\n",
    "                # find words that are \n",
    "                index = set(index_mask[l[\"start\"]:l[\"end\"]])\n",
    "                index.discard(None)\n",
    "                for x in index:\n",
    "                    masked_sentence[x] = \"[MASK]\"\n",
    "\n",
    "        output.append({\n",
    "            \"sentence\": _df.iloc[j][\"sentence\"],\n",
    "            \"error\": _df.iloc[j][\"error\"],\n",
    "            \"masked\": \" \".join(masked_sentence)\n",
    "        })\n",
    "\n",
    "(DATASET.parent.parent / \"masked.json\").write_text(json.dumps(output, indent=2))"
   ]
  },
  {
   "cell_type": "code",
   "execution_count": 10,
   "metadata": {},
   "outputs": [
    {
     "name": "stdout",
     "output_type": "stream",
     "text": [
      "{\n",
      "  \"sentence\": \"Sva\\u017eit\\u00fd zamok\\u0159en\\u00fd ter\\u00e9n tu vy\\u017eadoval zv\\u00fd\\u0161en\\u00e9 \\u00fasil\\u00ed i pozornost pocestn\\u00fdch a o p\\u0159epaden\\u00ed tu jist\\u011b nebyla nouze\",\n",
      "  \"error\": \"Sva\\u017eit\\u00fd zamok\\u0159en\\u00fd ter\\u00e9n u vWy\\u017eadoval zv\\u00fd\\u0161en\\u00e9 \\u00fasil\\u00ed i pozornost pocestn\\u00fdch a o p\\u0159epaden\\u00ed tu jist\\u011b nebla nouze\",\n",
      "  \"masked\": \"Sva\\u017eit\\u00fd zamok\\u0159en\\u00fd ter\\u00e9n [MASK] [MASK] zv\\u00fd\\u0161en\\u00e9 \\u00fasil\\u00ed i pozornost pocestn\\u00fdch a o p\\u0159epaden\\u00ed tu jist\\u011b [MASK] nouze\"\n",
      "}\n"
     ]
    }
   ],
   "source": [
    "print(json.dumps(output[0], indent=2, ensure_ascii=False))"
   ]
  }
 ],
 "metadata": {
  "kernelspec": {
   "display_name": ".venv",
   "language": "python",
   "name": "python3"
  },
  "language_info": {
   "codemirror_mode": {
    "name": "ipython",
    "version": 3
   },
   "file_extension": ".py",
   "mimetype": "text/x-python",
   "name": "python",
   "nbconvert_exporter": "python",
   "pygments_lexer": "ipython3",
   "version": "3.10.12"
  }
 },
 "nbformat": 4,
 "nbformat_minor": 2
}
