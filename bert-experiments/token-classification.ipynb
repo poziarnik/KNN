{
 "cells": [
  {
   "cell_type": "code",
   "execution_count": null,
   "metadata": {},
   "outputs": [],
   "source": [
    "from pathlib import Path\n",
    "\n",
    "DATASET = Path(\"../data/dataset-0.5.json\")\n",
    "\n",
    "MODEL = \"./model/roberta-error-detection\""
   ]
  },
  {
   "cell_type": "code",
   "execution_count": null,
   "metadata": {},
   "outputs": [],
   "source": [
    "from datasets import load_dataset\n",
    "\n",
    "dataset = load_dataset(\"json\", data_files=str(DATASET))\n",
    "\n",
    "def parse_dataset(example):\n",
    "    return {\n",
    "        \"sentence\": \" \".join(example[\"sentence\"]),\n",
    "        \"error\": \" \".join(example[\"error\"]),\n",
    "    }\n",
    "\n",
    "SHARDS = 100\n",
    "\n",
    "dataset = dataset[\"train\"].map(parse_dataset, batched=False, num_proc=4)\n",
    "dataset = dataset.select(range(1000))"
   ]
  },
  {
   "cell_type": "code",
   "execution_count": null,
   "metadata": {},
   "outputs": [],
   "source": [
    "from transformers import pipeline, AutoTokenizer\n",
    "\n",
    "tokenizer = AutoTokenizer.from_pretrained(MODEL, model_max_length=512)\n",
    "\n",
    "MODEL = \"./model/roberta-error-detection\"\n",
    "\n",
    "token_classifier = pipeline(\n",
    "    \"token-classification\", model=MODEL, tokenizer=tokenizer, aggregation_strategy=\"simple\", device=0\n",
    ")"
   ]
  },
  {
   "cell_type": "code",
   "execution_count": null,
   "metadata": {},
   "outputs": [],
   "source": [
    "from tqdm.auto import tqdm\n",
    "import json\n",
    "\n",
    "output: list[str] = []\n",
    "\n",
    "for i in tqdm(range(SHARDS), desc=\"Creating masked sentences.\"):\n",
    "    _dataset = dataset.shard(num_shards=SHARDS, index=i)\n",
    "    for j, labels in enumerate(token_classifier(_dataset[\"error\"], batch_size=32)):\n",
    "        errored_sentence = _dataset[\"error\"][j]\n",
    "        masked_sentences: list[str] = []\n",
    "\n",
    "        for l in labels:  # noqa: E741\n",
    "            if l[\"entity_group\"] == \"LABEL_1\":\n",
    "                masked_sentences.append(errored_sentence[: l[\"start\"]] + \"[MASK]\" + errored_sentence[l[\"end\"] :])\n",
    "\n",
    "        if not masked_sentences:\n",
    "            continue\n",
    "\n",
    "        output.append({\n",
    "            \"sentence\": _dataset[\"sentence\"][j],\n",
    "            \"error\": _dataset[\"error\"][j],\n",
    "            \"masked\": masked_sentences\n",
    "        })\n",
    "\n",
    "(DATASET.parent / \"masked.json\").write_text(json.dumps(output, indent=2))"
   ]
  }
 ],
 "metadata": {
  "kernelspec": {
   "display_name": ".venv",
   "language": "python",
   "name": "python3"
  },
  "language_info": {
   "codemirror_mode": {
    "name": "ipython",
    "version": 3
   },
   "file_extension": ".py",
   "mimetype": "text/x-python",
   "name": "python",
   "nbconvert_exporter": "python",
   "pygments_lexer": "ipython3",
   "version": "3.10.12"
  }
 },
 "nbformat": 4,
 "nbformat_minor": 2
}
